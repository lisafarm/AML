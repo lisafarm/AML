{
 "cells": [
  {
   "cell_type": "markdown",
   "source": [
    "### Case Study on Wifi Dataset : Data Modeling\n",
    "Creator: Lisa Klinbuayam\n",
    "Type: Classification model\n",
    "Using Wifi Dataset: UJIIndoorLoc Data Set https://archive.ics.uci.edu/ml/datasets/ujiindoorloc"
   ],
   "metadata": {
    "collapsed": false,
    "pycharm": {
     "name": "#%% md\n"
    }
   }
  },
  {
   "cell_type": "markdown",
   "metadata": {
    "pycharm": {
     "name": "#%% md\n"
    }
   },
   "source": [
    "## Objective\n",
    "`In this practice, we encouter training model by sample size of data to observe the model best fit by using the best-performance model we select. The KNN where K=3 is used in this practice.`"
   ]
  },
  {
   "cell_type": "code",
   "execution_count": 7,
   "outputs": [],
   "source": [
    "import pandas as pd\n",
    "import matplotlib.pyplot as plt\n",
    "import numpy as np\n",
    "from sklearn.neighbors import KNeighborsClassifier\n",
    "from sklearn.metrics import f1_score, confusion_matrix, roc_auc_score, classification_report"
   ],
   "metadata": {
    "collapsed": false,
    "pycharm": {
     "name": "#%%\n"
    }
   }
  },
  {
   "cell_type": "code",
   "execution_count": 8,
   "outputs": [
    {
     "data": {
      "text/plain": "   WAP001  WAP002  WAP003  WAP004  WAP005  WAP006  WAP007  WAP008  WAP009  \\\n0     100     100     100     100     100     100     100     100     100   \n1     100     100     100     100     100     100     100     100     100   \n2     100     100     100     100     100     100     100     -97     100   \n3     100     100     100     100     100     100     100     100     100   \n4     100     100     100     100     100     100     100     100     100   \n\n   WAP010  ...  WAP520  LONGITUDE      LATITUDE  FLOOR  BUILDINGID  SPACEID  \\\n0     100  ...     100 -7541.2643  4.864921e+06      2           1      106   \n1     100  ...     100 -7536.6212  4.864934e+06      2           1      106   \n2     100  ...     100 -7519.1524  4.864950e+06      2           1      103   \n3     100  ...     100 -7524.5704  4.864934e+06      2           1      102   \n4     100  ...     100 -7632.1436  4.864982e+06      0           0      122   \n\n   RELATIVEPOSITION  USERID  PHONEID   TIMESTAMP  \n0                 2       2       23  1371713733  \n1                 2       2       23  1371713691  \n2                 2       2       23  1371714095  \n3                 2       2       23  1371713807  \n4                 2      11       13  1369909710  \n\n[5 rows x 529 columns]",
      "text/html": "<div>\n<style scoped>\n    .dataframe tbody tr th:only-of-type {\n        vertical-align: middle;\n    }\n\n    .dataframe tbody tr th {\n        vertical-align: top;\n    }\n\n    .dataframe thead th {\n        text-align: right;\n    }\n</style>\n<table border=\"1\" class=\"dataframe\">\n  <thead>\n    <tr style=\"text-align: right;\">\n      <th></th>\n      <th>WAP001</th>\n      <th>WAP002</th>\n      <th>WAP003</th>\n      <th>WAP004</th>\n      <th>WAP005</th>\n      <th>WAP006</th>\n      <th>WAP007</th>\n      <th>WAP008</th>\n      <th>WAP009</th>\n      <th>WAP010</th>\n      <th>...</th>\n      <th>WAP520</th>\n      <th>LONGITUDE</th>\n      <th>LATITUDE</th>\n      <th>FLOOR</th>\n      <th>BUILDINGID</th>\n      <th>SPACEID</th>\n      <th>RELATIVEPOSITION</th>\n      <th>USERID</th>\n      <th>PHONEID</th>\n      <th>TIMESTAMP</th>\n    </tr>\n  </thead>\n  <tbody>\n    <tr>\n      <th>0</th>\n      <td>100</td>\n      <td>100</td>\n      <td>100</td>\n      <td>100</td>\n      <td>100</td>\n      <td>100</td>\n      <td>100</td>\n      <td>100</td>\n      <td>100</td>\n      <td>100</td>\n      <td>...</td>\n      <td>100</td>\n      <td>-7541.2643</td>\n      <td>4.864921e+06</td>\n      <td>2</td>\n      <td>1</td>\n      <td>106</td>\n      <td>2</td>\n      <td>2</td>\n      <td>23</td>\n      <td>1371713733</td>\n    </tr>\n    <tr>\n      <th>1</th>\n      <td>100</td>\n      <td>100</td>\n      <td>100</td>\n      <td>100</td>\n      <td>100</td>\n      <td>100</td>\n      <td>100</td>\n      <td>100</td>\n      <td>100</td>\n      <td>100</td>\n      <td>...</td>\n      <td>100</td>\n      <td>-7536.6212</td>\n      <td>4.864934e+06</td>\n      <td>2</td>\n      <td>1</td>\n      <td>106</td>\n      <td>2</td>\n      <td>2</td>\n      <td>23</td>\n      <td>1371713691</td>\n    </tr>\n    <tr>\n      <th>2</th>\n      <td>100</td>\n      <td>100</td>\n      <td>100</td>\n      <td>100</td>\n      <td>100</td>\n      <td>100</td>\n      <td>100</td>\n      <td>-97</td>\n      <td>100</td>\n      <td>100</td>\n      <td>...</td>\n      <td>100</td>\n      <td>-7519.1524</td>\n      <td>4.864950e+06</td>\n      <td>2</td>\n      <td>1</td>\n      <td>103</td>\n      <td>2</td>\n      <td>2</td>\n      <td>23</td>\n      <td>1371714095</td>\n    </tr>\n    <tr>\n      <th>3</th>\n      <td>100</td>\n      <td>100</td>\n      <td>100</td>\n      <td>100</td>\n      <td>100</td>\n      <td>100</td>\n      <td>100</td>\n      <td>100</td>\n      <td>100</td>\n      <td>100</td>\n      <td>...</td>\n      <td>100</td>\n      <td>-7524.5704</td>\n      <td>4.864934e+06</td>\n      <td>2</td>\n      <td>1</td>\n      <td>102</td>\n      <td>2</td>\n      <td>2</td>\n      <td>23</td>\n      <td>1371713807</td>\n    </tr>\n    <tr>\n      <th>4</th>\n      <td>100</td>\n      <td>100</td>\n      <td>100</td>\n      <td>100</td>\n      <td>100</td>\n      <td>100</td>\n      <td>100</td>\n      <td>100</td>\n      <td>100</td>\n      <td>100</td>\n      <td>...</td>\n      <td>100</td>\n      <td>-7632.1436</td>\n      <td>4.864982e+06</td>\n      <td>0</td>\n      <td>0</td>\n      <td>122</td>\n      <td>2</td>\n      <td>11</td>\n      <td>13</td>\n      <td>1369909710</td>\n    </tr>\n  </tbody>\n</table>\n<p>5 rows × 529 columns</p>\n</div>"
     },
     "execution_count": 8,
     "metadata": {},
     "output_type": "execute_result"
    }
   ],
   "source": [
    "# Read dataset (Training dataset)\n",
    "train = pd.read_csv('trainingData.csv')\n",
    "train.head(5)"
   ],
   "metadata": {
    "collapsed": false,
    "pycharm": {
     "name": "#%%\n"
    }
   }
  },
  {
   "cell_type": "code",
   "execution_count": 9,
   "outputs": [
    {
     "data": {
      "text/plain": "   WAP001  WAP002  WAP003  WAP004  WAP005  WAP006  WAP007  WAP008  WAP009  \\\n0     100     100     100     100     100     100     100     100     100   \n1     100     100     100     100     100     100     100     100     100   \n2     100     100     100     100     100     100     100     100     100   \n3     100     100     100     100     100     100     100     100     100   \n4     100     100     100     100     100     100     100     100     100   \n\n   WAP010  ...  WAP520    LONGITUDE      LATITUDE  FLOOR  BUILDINGID  SPACEID  \\\n0     100  ...     100 -7515.916799  4.864890e+06      1           1        0   \n1     100  ...     100 -7383.867221  4.864840e+06      4           2        0   \n2     100  ...     100 -7374.302080  4.864847e+06      4           2        0   \n3     100  ...     100 -7365.824883  4.864843e+06      4           2        0   \n4     100  ...     100 -7641.499303  4.864922e+06      2           0        0   \n\n   RELATIVEPOSITION  USERID  PHONEID   TIMESTAMP  \n0                 0       0        0  1380872703  \n1                 0       0       13  1381155054  \n2                 0       0       13  1381155095  \n3                 0       0       13  1381155138  \n4                 0       0        2  1380877774  \n\n[5 rows x 529 columns]",
      "text/html": "<div>\n<style scoped>\n    .dataframe tbody tr th:only-of-type {\n        vertical-align: middle;\n    }\n\n    .dataframe tbody tr th {\n        vertical-align: top;\n    }\n\n    .dataframe thead th {\n        text-align: right;\n    }\n</style>\n<table border=\"1\" class=\"dataframe\">\n  <thead>\n    <tr style=\"text-align: right;\">\n      <th></th>\n      <th>WAP001</th>\n      <th>WAP002</th>\n      <th>WAP003</th>\n      <th>WAP004</th>\n      <th>WAP005</th>\n      <th>WAP006</th>\n      <th>WAP007</th>\n      <th>WAP008</th>\n      <th>WAP009</th>\n      <th>WAP010</th>\n      <th>...</th>\n      <th>WAP520</th>\n      <th>LONGITUDE</th>\n      <th>LATITUDE</th>\n      <th>FLOOR</th>\n      <th>BUILDINGID</th>\n      <th>SPACEID</th>\n      <th>RELATIVEPOSITION</th>\n      <th>USERID</th>\n      <th>PHONEID</th>\n      <th>TIMESTAMP</th>\n    </tr>\n  </thead>\n  <tbody>\n    <tr>\n      <th>0</th>\n      <td>100</td>\n      <td>100</td>\n      <td>100</td>\n      <td>100</td>\n      <td>100</td>\n      <td>100</td>\n      <td>100</td>\n      <td>100</td>\n      <td>100</td>\n      <td>100</td>\n      <td>...</td>\n      <td>100</td>\n      <td>-7515.916799</td>\n      <td>4.864890e+06</td>\n      <td>1</td>\n      <td>1</td>\n      <td>0</td>\n      <td>0</td>\n      <td>0</td>\n      <td>0</td>\n      <td>1380872703</td>\n    </tr>\n    <tr>\n      <th>1</th>\n      <td>100</td>\n      <td>100</td>\n      <td>100</td>\n      <td>100</td>\n      <td>100</td>\n      <td>100</td>\n      <td>100</td>\n      <td>100</td>\n      <td>100</td>\n      <td>100</td>\n      <td>...</td>\n      <td>100</td>\n      <td>-7383.867221</td>\n      <td>4.864840e+06</td>\n      <td>4</td>\n      <td>2</td>\n      <td>0</td>\n      <td>0</td>\n      <td>0</td>\n      <td>13</td>\n      <td>1381155054</td>\n    </tr>\n    <tr>\n      <th>2</th>\n      <td>100</td>\n      <td>100</td>\n      <td>100</td>\n      <td>100</td>\n      <td>100</td>\n      <td>100</td>\n      <td>100</td>\n      <td>100</td>\n      <td>100</td>\n      <td>100</td>\n      <td>...</td>\n      <td>100</td>\n      <td>-7374.302080</td>\n      <td>4.864847e+06</td>\n      <td>4</td>\n      <td>2</td>\n      <td>0</td>\n      <td>0</td>\n      <td>0</td>\n      <td>13</td>\n      <td>1381155095</td>\n    </tr>\n    <tr>\n      <th>3</th>\n      <td>100</td>\n      <td>100</td>\n      <td>100</td>\n      <td>100</td>\n      <td>100</td>\n      <td>100</td>\n      <td>100</td>\n      <td>100</td>\n      <td>100</td>\n      <td>100</td>\n      <td>...</td>\n      <td>100</td>\n      <td>-7365.824883</td>\n      <td>4.864843e+06</td>\n      <td>4</td>\n      <td>2</td>\n      <td>0</td>\n      <td>0</td>\n      <td>0</td>\n      <td>13</td>\n      <td>1381155138</td>\n    </tr>\n    <tr>\n      <th>4</th>\n      <td>100</td>\n      <td>100</td>\n      <td>100</td>\n      <td>100</td>\n      <td>100</td>\n      <td>100</td>\n      <td>100</td>\n      <td>100</td>\n      <td>100</td>\n      <td>100</td>\n      <td>...</td>\n      <td>100</td>\n      <td>-7641.499303</td>\n      <td>4.864922e+06</td>\n      <td>2</td>\n      <td>0</td>\n      <td>0</td>\n      <td>0</td>\n      <td>0</td>\n      <td>2</td>\n      <td>1380877774</td>\n    </tr>\n  </tbody>\n</table>\n<p>5 rows × 529 columns</p>\n</div>"
     },
     "execution_count": 9,
     "metadata": {},
     "output_type": "execute_result"
    }
   ],
   "source": [
    "# Read dataset (Validation dataset)\n",
    "test = pd.read_csv('validationData.csv')\n",
    "test.head(5)"
   ],
   "metadata": {
    "collapsed": false,
    "pycharm": {
     "name": "#%%\n"
    }
   }
  },
  {
   "cell_type": "code",
   "execution_count": 10,
   "outputs": [],
   "source": [
    "# Drop unnecessary attributes\n",
    "train.drop(['LONGITUDE', 'LATITUDE', 'FLOOR', 'SPACEID', 'RELATIVEPOSITION', 'USERID', 'PHONEID','TIMESTAMP'], axis=1, inplace=True)\n",
    "test.drop(['LONGITUDE', 'LATITUDE', 'FLOOR', 'SPACEID', 'RELATIVEPOSITION', 'USERID', 'PHONEID','TIMESTAMP'], axis=1, inplace=True)"
   ],
   "metadata": {
    "collapsed": false,
    "pycharm": {
     "name": "#%%\n"
    }
   }
  },
  {
   "cell_type": "code",
   "execution_count": 11,
   "outputs": [],
   "source": [
    "# Slicing features and target\n",
    "x_train = train.iloc[:,:-1]\n",
    "y_train = train.iloc[:,-1]\n",
    "x_test = test.iloc[:,:-1]\n",
    "y_test = test.iloc[:,-1]"
   ],
   "metadata": {
    "collapsed": false,
    "pycharm": {
     "name": "#%%\n"
    }
   }
  },
  {
   "cell_type": "markdown",
   "source": [
    "`From the past exercise we concluded that KNN where K = 3 is the optimum value. Shown in the below reference.`"
   ],
   "metadata": {
    "collapsed": false,
    "pycharm": {
     "name": "#%% md\n"
    }
   }
  },
  {
   "cell_type": "code",
   "execution_count": 12,
   "outputs": [
    {
     "data": {
      "text/plain": "<Figure size 432x288 with 1 Axes>",
      "image/png": "[encoded data removed]"
     },
     "metadata": {
      "needs_background": "light"
     },
     "output_type": "display_data"
    }
   ],
   "source": [
    "# Reference\n",
    "no_neighbors = np.arange(1,30)\n",
    "f1_scores = np.empty(len(no_neighbors))\n",
    "\n",
    "for i, k in enumerate(no_neighbors):\n",
    "    knn = KNeighborsClassifier(n_neighbors=k)\n",
    "    knn.fit(x_train, y_train)\n",
    "    y_pred = knn.predict(x_test)\n",
    "    f1_scores[i] = f1_score(y_test, y_pred, average='macro')\n",
    "\n",
    "# Plot the visualization\n",
    "plt.title('KNN: Variety number of neighbors')\n",
    "plt.plot(no_neighbors, f1_scores, label = 'F1 Scores', c='red')\n",
    "plt.legend()\n",
    "plt.xlabel('Number of Neighbors')\n",
    "plt.ylabel('F1 Scores')\n",
    "plt.show()"
   ],
   "metadata": {
    "collapsed": false,
    "pycharm": {
     "name": "#%%\n"
    }
   }
  },
  {
   "cell_type": "code",
   "execution_count": 13,
   "outputs": [
    {
     "name": "stdout",
     "output_type": "stream",
     "text": [
      "              precision    recall  f1-score   support\n",
      "\n",
      "           0       1.00      0.99      0.99       536\n",
      "           1       0.97      0.98      0.98       307\n",
      "           2       0.97      0.98      0.97       268\n",
      "\n",
      "    accuracy                           0.98      1111\n",
      "   macro avg       0.98      0.98      0.98      1111\n",
      "weighted avg       0.98      0.98      0.98      1111\n",
      "\n"
     ]
    }
   ],
   "source": [
    "print(classification_report(y_test, y_pred))"
   ],
   "metadata": {
    "collapsed": false,
    "pycharm": {
     "name": "#%%\n"
    }
   }
  },
  {
   "cell_type": "markdown",
   "source": [
    "#### [Step 1]\n",
    "Observe when increasing sample size to train the model for classification."
   ],
   "metadata": {
    "collapsed": false
   }
  },
  {
   "cell_type": "code",
   "execution_count": 14,
   "outputs": [
    {
     "data": {
      "text/plain": "       WAP001  WAP002  WAP003  WAP004  WAP005  WAP006  WAP007  WAP008  WAP009  \\\n7107      100     100     100     100     100     100     100     100     100   \n12603     100     100     100     100     100     100     100     -83     100   \n19424     100     100     100     100     100     100     100     100     100   \n12850     100     100     100     100     100     100     100     100     100   \n11311     100     100     100     100     100     100     100     100     100   \n...       ...     ...     ...     ...     ...     ...     ...     ...     ...   \n10121     100     100     100     100     100     100     100     100     100   \n8941      100     100     100     100     100     100     -61     100     100   \n6111      100     100     100     100     100     100     100     100     100   \n4166      100     100     100     100     100     100     100     100     100   \n6560      100     100     100     100     100     100     100     100     100   \n\n       WAP010  ...  WAP512  WAP513  WAP514  WAP515  WAP516  WAP517  WAP518  \\\n7107      100  ...     100     100     100     100     -44     100     100   \n12603     100  ...     100     100     100     100     100     100     100   \n19424     100  ...     100     100     100     100     100     100     100   \n12850     100  ...     100     100     100     100     100     100     100   \n11311     100  ...     100     100     100     100     100     100     100   \n...       ...  ...     ...     ...     ...     ...     ...     ...     ...   \n10121     100  ...     100     100     100     100     100     100     100   \n8941      100  ...     100     100     100     100     100     100     100   \n6111      100  ...     100     100     100     100     100     100     100   \n4166      100  ...     100     100     100     100     100     100     100   \n6560      100  ...     100     100     100     100     -36     -88     100   \n\n       WAP519  WAP520  BUILDINGID  \n7107      100     100           2  \n12603     100     100           1  \n19424     100     100           1  \n12850     100     100           1  \n11311     100     100           0  \n...       ...     ...         ...  \n10121     100     100           2  \n8941      100     100           0  \n6111      100     100           1  \n4166      100     100           2  \n6560      100     100           2  \n\n[3987 rows x 521 columns]",
      "text/html": "<div>\n<style scoped>\n    .dataframe tbody tr th:only-of-type {\n        vertical-align: middle;\n    }\n\n    .dataframe tbody tr th {\n        vertical-align: top;\n    }\n\n    .dataframe thead th {\n        text-align: right;\n    }\n</style>\n<table border=\"1\" class=\"dataframe\">\n  <thead>\n    <tr style=\"text-align: right;\">\n      <th></th>\n      <th>WAP001</th>\n      <th>WAP002</th>\n      <th>WAP003</th>\n      <th>WAP004</th>\n      <th>WAP005</th>\n      <th>WAP006</th>\n      <th>WAP007</th>\n      <th>WAP008</th>\n      <th>WAP009</th>\n      <th>WAP010</th>\n      <th>...</th>\n      <th>WAP512</th>\n      <th>WAP513</th>\n      <th>WAP514</th>\n      <th>WAP515</th>\n      <th>WAP516</th>\n      <th>WAP517</th>\n      <th>WAP518</th>\n      <th>WAP519</th>\n      <th>WAP520</th>\n      <th>BUILDINGID</th>\n    </tr>\n  </thead>\n  <tbody>\n    <tr>\n      <th>7107</th>\n      <td>100</td>\n      <td>100</td>\n      <td>100</td>\n      <td>100</td>\n      <td>100</td>\n      <td>100</td>\n      <td>100</td>\n      <td>100</td>\n      <td>100</td>\n      <td>100</td>\n      <td>...</td>\n      <td>100</td>\n      <td>100</td>\n      <td>100</td>\n      <td>100</td>\n      <td>-44</td>\n      <td>100</td>\n      <td>100</td>\n      <td>100</td>\n      <td>100</td>\n      <td>2</td>\n    </tr>\n    <tr>\n      <th>12603</th>\n      <td>100</td>\n      <td>100</td>\n      <td>100</td>\n      <td>100</td>\n      <td>100</td>\n      <td>100</td>\n      <td>100</td>\n      <td>-83</td>\n      <td>100</td>\n      <td>100</td>\n      <td>...</td>\n      <td>100</td>\n      <td>100</td>\n      <td>100</td>\n      <td>100</td>\n      <td>100</td>\n      <td>100</td>\n      <td>100</td>\n      <td>100</td>\n      <td>100</td>\n      <td>1</td>\n    </tr>\n    <tr>\n      <th>19424</th>\n      <td>100</td>\n      <td>100</td>\n      <td>100</td>\n      <td>100</td>\n      <td>100</td>\n      <td>100</td>\n      <td>100</td>\n      <td>100</td>\n      <td>100</td>\n      <td>100</td>\n      <td>...</td>\n      <td>100</td>\n      <td>100</td>\n      <td>100</td>\n      <td>100</td>\n      <td>100</td>\n      <td>100</td>\n      <td>100</td>\n      <td>100</td>\n      <td>100</td>\n      <td>1</td>\n    </tr>\n    <tr>\n      <th>12850</th>\n      <td>100</td>\n      <td>100</td>\n      <td>100</td>\n      <td>100</td>\n      <td>100</td>\n      <td>100</td>\n      <td>100</td>\n      <td>100</td>\n      <td>100</td>\n      <td>100</td>\n      <td>...</td>\n      <td>100</td>\n      <td>100</td>\n      <td>100</td>\n      <td>100</td>\n      <td>100</td>\n      <td>100</td>\n      <td>100</td>\n      <td>100</td>\n      <td>100</td>\n      <td>1</td>\n    </tr>\n    <tr>\n      <th>11311</th>\n      <td>100</td>\n      <td>100</td>\n      <td>100</td>\n      <td>100</td>\n      <td>100</td>\n      <td>100</td>\n      <td>100</td>\n      <td>100</td>\n      <td>100</td>\n      <td>100</td>\n      <td>...</td>\n      <td>100</td>\n      <td>100</td>\n      <td>100</td>\n      <td>100</td>\n      <td>100</td>\n      <td>100</td>\n      <td>100</td>\n      <td>100</td>\n      <td>100</td>\n      <td>0</td>\n    </tr>\n    <tr>\n      <th>...</th>\n      <td>...</td>\n      <td>...</td>\n      <td>...</td>\n      <td>...</td>\n      <td>...</td>\n      <td>...</td>\n      <td>...</td>\n      <td>...</td>\n      <td>...</td>\n      <td>...</td>\n      <td>...</td>\n      <td>...</td>\n      <td>...</td>\n      <td>...</td>\n      <td>...</td>\n      <td>...</td>\n      <td>...</td>\n      <td>...</td>\n      <td>...</td>\n      <td>...</td>\n      <td>...</td>\n    </tr>\n    <tr>\n      <th>10121</th>\n      <td>100</td>\n      <td>100</td>\n      <td>100</td>\n      <td>100</td>\n      <td>100</td>\n      <td>100</td>\n      <td>100</td>\n      <td>100</td>\n      <td>100</td>\n      <td>100</td>\n      <td>...</td>\n      <td>100</td>\n      <td>100</td>\n      <td>100</td>\n      <td>100</td>\n      <td>100</td>\n      <td>100</td>\n      <td>100</td>\n      <td>100</td>\n      <td>100</td>\n      <td>2</td>\n    </tr>\n    <tr>\n      <th>8941</th>\n      <td>100</td>\n      <td>100</td>\n      <td>100</td>\n      <td>100</td>\n      <td>100</td>\n      <td>100</td>\n      <td>-61</td>\n      <td>100</td>\n      <td>100</td>\n      <td>100</td>\n      <td>...</td>\n      <td>100</td>\n      <td>100</td>\n      <td>100</td>\n      <td>100</td>\n      <td>100</td>\n      <td>100</td>\n      <td>100</td>\n      <td>100</td>\n      <td>100</td>\n      <td>0</td>\n    </tr>\n    <tr>\n      <th>6111</th>\n      <td>100</td>\n      <td>100</td>\n      <td>100</td>\n      <td>100</td>\n      <td>100</td>\n      <td>100</td>\n      <td>100</td>\n      <td>100</td>\n      <td>100</td>\n      <td>100</td>\n      <td>...</td>\n      <td>100</td>\n      <td>100</td>\n      <td>100</td>\n      <td>100</td>\n      <td>100</td>\n      <td>100</td>\n      <td>100</td>\n      <td>100</td>\n      <td>100</td>\n      <td>1</td>\n    </tr>\n    <tr>\n      <th>4166</th>\n      <td>100</td>\n      <td>100</td>\n      <td>100</td>\n      <td>100</td>\n      <td>100</td>\n      <td>100</td>\n      <td>100</td>\n      <td>100</td>\n      <td>100</td>\n      <td>100</td>\n      <td>...</td>\n      <td>100</td>\n      <td>100</td>\n      <td>100</td>\n      <td>100</td>\n      <td>100</td>\n      <td>100</td>\n      <td>100</td>\n      <td>100</td>\n      <td>100</td>\n      <td>2</td>\n    </tr>\n    <tr>\n      <th>6560</th>\n      <td>100</td>\n      <td>100</td>\n      <td>100</td>\n      <td>100</td>\n      <td>100</td>\n      <td>100</td>\n      <td>100</td>\n      <td>100</td>\n      <td>100</td>\n      <td>100</td>\n      <td>...</td>\n      <td>100</td>\n      <td>100</td>\n      <td>100</td>\n      <td>100</td>\n      <td>-36</td>\n      <td>-88</td>\n      <td>100</td>\n      <td>100</td>\n      <td>100</td>\n      <td>2</td>\n    </tr>\n  </tbody>\n</table>\n<p>3987 rows × 521 columns</p>\n</div>"
     },
     "execution_count": 14,
     "metadata": {},
     "output_type": "execute_result"
    }
   ],
   "source": [
    "# [1] 20% samples\n",
    "train_20 = train.sample(frac=0.2,random_state=1)\n",
    "train_20"
   ],
   "metadata": {
    "collapsed": false,
    "pycharm": {
     "name": "#%%\n"
    }
   }
  },
  {
   "cell_type": "code",
   "execution_count": 15,
   "metadata": {
    "pycharm": {
     "name": "#%%\n"
    }
   },
   "outputs": [],
   "source": [
    "F1_list = []"
   ]
  },
  {
   "cell_type": "code",
   "execution_count": 16,
   "metadata": {
    "pycharm": {
     "name": "#%%\n"
    }
   },
   "outputs": [
    {
     "name": "stdout",
     "output_type": "stream",
     "text": [
      "F1 Score of 20% sample size: 0.976\n"
     ]
    }
   ],
   "source": [
    "x_train = train_20.iloc[:,:-1]\n",
    "y_train = train_20.iloc[:,-1]\n",
    "\n",
    "knn = KNeighborsClassifier(n_neighbors=3)\n",
    "knn.fit(x_train, y_train)\n",
    "y_pred = knn.predict(x_test)\n",
    "f1_scores_20 = f1_score(y_test, y_pred, average='macro')\n",
    "F1_list.append(f1_scores_20)\n",
    "print(f'F1 Score of 20% sample size: {f1_scores_20:.3f}')"
   ]
  },
  {
   "cell_type": "code",
   "execution_count": 17,
   "metadata": {
    "pycharm": {
     "name": "#%%\n"
    }
   },
   "outputs": [
    {
     "data": {
      "text/plain": "       WAP001  WAP002  WAP003  WAP004  WAP005  WAP006  WAP007  WAP008  WAP009  \\\n7107      100     100     100     100     100     100     100     100     100   \n12603     100     100     100     100     100     100     100     -83     100   \n19424     100     100     100     100     100     100     100     100     100   \n12850     100     100     100     100     100     100     100     100     100   \n11311     100     100     100     100     100     100     100     100     100   \n...       ...     ...     ...     ...     ...     ...     ...     ...     ...   \n15228     100     100     100     100     100     100     100     100     100   \n2487      100     100     100     100     100     100     100     100     100   \n12914     100     100     100     100     100     100     100     100     100   \n10978     100     100     100     100     100     100     100     -84     100   \n3351      100     100     100     100     100     100     100     100     100   \n\n       WAP010  ...  WAP512  WAP513  WAP514  WAP515  WAP516  WAP517  WAP518  \\\n7107      100  ...     100     100     100     100     -44     100     100   \n12603     100  ...     100     100     100     100     100     100     100   \n19424     100  ...     100     100     100     100     100     100     100   \n12850     100  ...     100     100     100     100     100     100     100   \n11311     100  ...     100     100     100     100     100     100     100   \n...       ...  ...     ...     ...     ...     ...     ...     ...     ...   \n15228     100  ...     100     100     100     100     -70     100     100   \n2487      100  ...     100     100     100     100     100     -92     100   \n12914     100  ...     100     100     100     100     100     100     100   \n10978     100  ...     100     100     100     100     100     100     100   \n3351      100  ...     100     100     100     100     -73     -83     100   \n\n       WAP519  WAP520  BUILDINGID  \n7107      100     100           2  \n12603     100     100           1  \n19424     100     100           1  \n12850     100     100           1  \n11311     100     100           0  \n...       ...     ...         ...  \n15228     100     100           2  \n2487      100     100           2  \n12914     100     100           1  \n10978     100     100           1  \n3351      100     100           2  \n\n[7975 rows x 521 columns]",
      "text/html": "<div>\n<style scoped>\n    .dataframe tbody tr th:only-of-type {\n        vertical-align: middle;\n    }\n\n    .dataframe tbody tr th {\n        vertical-align: top;\n    }\n\n    .dataframe thead th {\n        text-align: right;\n    }\n</style>\n<table border=\"1\" class=\"dataframe\">\n  <thead>\n    <tr style=\"text-align: right;\">\n      <th></th>\n      <th>WAP001</th>\n      <th>WAP002</th>\n      <th>WAP003</th>\n      <th>WAP004</th>\n      <th>WAP005</th>\n      <th>WAP006</th>\n      <th>WAP007</th>\n      <th>WAP008</th>\n      <th>WAP009</th>\n      <th>WAP010</th>\n      <th>...</th>\n      <th>WAP512</th>\n      <th>WAP513</th>\n      <th>WAP514</th>\n      <th>WAP515</th>\n      <th>WAP516</th>\n      <th>WAP517</th>\n      <th>WAP518</th>\n      <th>WAP519</th>\n      <th>WAP520</th>\n      <th>BUILDINGID</th>\n    </tr>\n  </thead>\n  <tbody>\n    <tr>\n      <th>7107</th>\n      <td>100</td>\n      <td>100</td>\n      <td>100</td>\n      <td>100</td>\n      <td>100</td>\n      <td>100</td>\n      <td>100</td>\n      <td>100</td>\n      <td>100</td>\n      <td>100</td>\n      <td>...</td>\n      <td>100</td>\n      <td>100</td>\n      <td>100</td>\n      <td>100</td>\n      <td>-44</td>\n      <td>100</td>\n      <td>100</td>\n      <td>100</td>\n      <td>100</td>\n      <td>2</td>\n    </tr>\n    <tr>\n      <th>12603</th>\n      <td>100</td>\n      <td>100</td>\n      <td>100</td>\n      <td>100</td>\n      <td>100</td>\n      <td>100</td>\n      <td>100</td>\n      <td>-83</td>\n      <td>100</td>\n      <td>100</td>\n      <td>...</td>\n      <td>100</td>\n      <td>100</td>\n      <td>100</td>\n      <td>100</td>\n      <td>100</td>\n      <td>100</td>\n      <td>100</td>\n      <td>100</td>\n      <td>100</td>\n      <td>1</td>\n    </tr>\n    <tr>\n      <th>19424</th>\n      <td>100</td>\n      <td>100</td>\n      <td>100</td>\n      <td>100</td>\n      <td>100</td>\n      <td>100</td>\n      <td>100</td>\n      <td>100</td>\n      <td>100</td>\n      <td>100</td>\n      <td>...</td>\n      <td>100</td>\n      <td>100</td>\n      <td>100</td>\n      <td>100</td>\n      <td>100</td>\n      <td>100</td>\n      <td>100</td>\n      <td>100</td>\n      <td>100</td>\n      <td>1</td>\n    </tr>\n    <tr>\n      <th>12850</th>\n      <td>100</td>\n      <td>100</td>\n      <td>100</td>\n      <td>100</td>\n      <td>100</td>\n      <td>100</td>\n      <td>100</td>\n      <td>100</td>\n      <td>100</td>\n      <td>100</td>\n      <td>...</td>\n      <td>100</td>\n      <td>100</td>\n      <td>100</td>\n      <td>100</td>\n      <td>100</td>\n      <td>100</td>\n      <td>100</td>\n      <td>100</td>\n      <td>100</td>\n      <td>1</td>\n    </tr>\n    <tr>\n      <th>11311</th>\n      <td>100</td>\n      <td>100</td>\n      <td>100</td>\n      <td>100</td>\n      <td>100</td>\n      <td>100</td>\n      <td>100</td>\n      <td>100</td>\n      <td>100</td>\n      <td>100</td>\n      <td>...</td>\n      <td>100</td>\n      <td>100</td>\n      <td>100</td>\n      <td>100</td>\n      <td>100</td>\n      <td>100</td>\n      <td>100</td>\n      <td>100</td>\n      <td>100</td>\n      <td>0</td>\n    </tr>\n    <tr>\n      <th>...</th>\n      <td>...</td>\n      <td>...</td>\n      <td>...</td>\n      <td>...</td>\n      <td>...</td>\n      <td>...</td>\n      <td>...</td>\n      <td>...</td>\n      <td>...</td>\n      <td>...</td>\n      <td>...</td>\n      <td>...</td>\n      <td>...</td>\n      <td>...</td>\n      <td>...</td>\n      <td>...</td>\n      <td>...</td>\n      <td>...</td>\n      <td>...</td>\n      <td>...</td>\n      <td>...</td>\n    </tr>\n    <tr>\n      <th>15228</th>\n      <td>100</td>\n      <td>100</td>\n      <td>100</td>\n      <td>100</td>\n      <td>100</td>\n      <td>100</td>\n      <td>100</td>\n      <td>100</td>\n      <td>100</td>\n      <td>100</td>\n      <td>...</td>\n      <td>100</td>\n      <td>100</td>\n      <td>100</td>\n      <td>100</td>\n      <td>-70</td>\n      <td>100</td>\n      <td>100</td>\n      <td>100</td>\n      <td>100</td>\n      <td>2</td>\n    </tr>\n    <tr>\n      <th>2487</th>\n      <td>100</td>\n      <td>100</td>\n      <td>100</td>\n      <td>100</td>\n      <td>100</td>\n      <td>100</td>\n      <td>100</td>\n      <td>100</td>\n      <td>100</td>\n      <td>100</td>\n      <td>...</td>\n      <td>100</td>\n      <td>100</td>\n      <td>100</td>\n      <td>100</td>\n      <td>100</td>\n      <td>-92</td>\n      <td>100</td>\n      <td>100</td>\n      <td>100</td>\n      <td>2</td>\n    </tr>\n    <tr>\n      <th>12914</th>\n      <td>100</td>\n      <td>100</td>\n      <td>100</td>\n      <td>100</td>\n      <td>100</td>\n      <td>100</td>\n      <td>100</td>\n      <td>100</td>\n      <td>100</td>\n      <td>100</td>\n      <td>...</td>\n      <td>100</td>\n      <td>100</td>\n      <td>100</td>\n      <td>100</td>\n      <td>100</td>\n      <td>100</td>\n      <td>100</td>\n      <td>100</td>\n      <td>100</td>\n      <td>1</td>\n    </tr>\n    <tr>\n      <th>10978</th>\n      <td>100</td>\n      <td>100</td>\n      <td>100</td>\n      <td>100</td>\n      <td>100</td>\n      <td>100</td>\n      <td>100</td>\n      <td>-84</td>\n      <td>100</td>\n      <td>100</td>\n      <td>...</td>\n      <td>100</td>\n      <td>100</td>\n      <td>100</td>\n      <td>100</td>\n      <td>100</td>\n      <td>100</td>\n      <td>100</td>\n      <td>100</td>\n      <td>100</td>\n      <td>1</td>\n    </tr>\n    <tr>\n      <th>3351</th>\n      <td>100</td>\n      <td>100</td>\n      <td>100</td>\n      <td>100</td>\n      <td>100</td>\n      <td>100</td>\n      <td>100</td>\n      <td>100</td>\n      <td>100</td>\n      <td>100</td>\n      <td>...</td>\n      <td>100</td>\n      <td>100</td>\n      <td>100</td>\n      <td>100</td>\n      <td>-73</td>\n      <td>-83</td>\n      <td>100</td>\n      <td>100</td>\n      <td>100</td>\n      <td>2</td>\n    </tr>\n  </tbody>\n</table>\n<p>7975 rows × 521 columns</p>\n</div>"
     },
     "execution_count": 17,
     "metadata": {},
     "output_type": "execute_result"
    }
   ],
   "source": [
    "# [2] 40% samples\n",
    "train_40 = train.sample(frac=0.4,random_state=1)\n",
    "train_40"
   ]
  },
  {
   "cell_type": "code",
   "execution_count": 18,
   "outputs": [
    {
     "name": "stdout",
     "output_type": "stream",
     "text": [
      "F1 Score: 0.987\n"
     ]
    }
   ],
   "source": [
    "x_train = train_40.iloc[:,:-1]\n",
    "y_train = train_40.iloc[:,-1]\n",
    "\n",
    "knn = KNeighborsClassifier(n_neighbors=3)\n",
    "knn.fit(x_train, y_train)\n",
    "y_pred = knn.predict(x_test)\n",
    "f1_scores_40 = f1_score(y_test, y_pred, average='macro')\n",
    "F1_list.append(f1_scores_40)\n",
    "print(f'F1 Score: {f1_scores_40:.3f}')"
   ],
   "metadata": {
    "collapsed": false,
    "pycharm": {
     "name": "#%%\n"
    }
   }
  },
  {
   "cell_type": "code",
   "execution_count": 19,
   "metadata": {
    "pycharm": {
     "name": "#%%\n"
    }
   },
   "outputs": [
    {
     "data": {
      "text/plain": "       WAP001  WAP002  WAP003  WAP004  WAP005  WAP006  WAP007  WAP008  WAP009  \\\n7107      100     100     100     100     100     100     100     100     100   \n12603     100     100     100     100     100     100     100     -83     100   \n19424     100     100     100     100     100     100     100     100     100   \n12850     100     100     100     100     100     100     100     100     100   \n11311     100     100     100     100     100     100     100     100     100   \n...       ...     ...     ...     ...     ...     ...     ...     ...     ...   \n5849      100     100     100     100     100     100     100     100     100   \n17994     100     100     100     100     100     100     100     100     100   \n25        100     100     100     100     100     100     100     100     100   \n4249      100     100     100     100     100     -91     100     100     100   \n2064      100     100     100     100     100     100     100     100     100   \n\n       WAP010  ...  WAP512  WAP513  WAP514  WAP515  WAP516  WAP517  WAP518  \\\n7107      100  ...     100     100     100     100     -44     100     100   \n12603     100  ...     100     100     100     100     100     100     100   \n19424     100  ...     100     100     100     100     100     100     100   \n12850     100  ...     100     100     100     100     100     100     100   \n11311     100  ...     100     100     100     100     100     100     100   \n...       ...  ...     ...     ...     ...     ...     ...     ...     ...   \n5849      100  ...     100     100     100     100     -62     100     100   \n17994     100  ...     100     100     100     100     100     100     100   \n25        100  ...     100     100     100     100     100     100     100   \n4249      100  ...     100     100     100     100     100     100     100   \n2064      100  ...     100     100     100     100     100     100     100   \n\n       WAP519  WAP520  BUILDINGID  \n7107      100     100           2  \n12603     100     100           1  \n19424     100     100           1  \n12850     100     100           1  \n11311     100     100           0  \n...       ...     ...         ...  \n5849      100     100           2  \n17994     100     100           0  \n25        100     100           1  \n4249      100     100           1  \n2064      100     100           2  \n\n[11962 rows x 521 columns]",
      "text/html": "<div>\n<style scoped>\n    .dataframe tbody tr th:only-of-type {\n        vertical-align: middle;\n    }\n\n    .dataframe tbody tr th {\n        vertical-align: top;\n    }\n\n    .dataframe thead th {\n        text-align: right;\n    }\n</style>\n<table border=\"1\" class=\"dataframe\">\n  <thead>\n    <tr style=\"text-align: right;\">\n      <th></th>\n      <th>WAP001</th>\n      <th>WAP002</th>\n      <th>WAP003</th>\n      <th>WAP004</th>\n      <th>WAP005</th>\n      <th>WAP006</th>\n      <th>WAP007</th>\n      <th>WAP008</th>\n      <th>WAP009</th>\n      <th>WAP010</th>\n      <th>...</th>\n      <th>WAP512</th>\n      <th>WAP513</th>\n      <th>WAP514</th>\n      <th>WAP515</th>\n      <th>WAP516</th>\n      <th>WAP517</th>\n      <th>WAP518</th>\n      <th>WAP519</th>\n      <th>WAP520</th>\n      <th>BUILDINGID</th>\n    </tr>\n  </thead>\n  <tbody>\n    <tr>\n      <th>7107</th>\n      <td>100</td>\n      <td>100</td>\n      <td>100</td>\n      <td>100</td>\n      <td>100</td>\n      <td>100</td>\n      <td>100</td>\n      <td>100</td>\n      <td>100</td>\n      <td>100</td>\n      <td>...</td>\n      <td>100</td>\n      <td>100</td>\n      <td>100</td>\n      <td>100</td>\n      <td>-44</td>\n      <td>100</td>\n      <td>100</td>\n      <td>100</td>\n      <td>100</td>\n      <td>2</td>\n    </tr>\n    <tr>\n      <th>12603</th>\n      <td>100</td>\n      <td>100</td>\n      <td>100</td>\n      <td>100</td>\n      <td>100</td>\n      <td>100</td>\n      <td>100</td>\n      <td>-83</td>\n      <td>100</td>\n      <td>100</td>\n      <td>...</td>\n      <td>100</td>\n      <td>100</td>\n      <td>100</td>\n      <td>100</td>\n      <td>100</td>\n      <td>100</td>\n      <td>100</td>\n      <td>100</td>\n      <td>100</td>\n      <td>1</td>\n    </tr>\n    <tr>\n      <th>19424</th>\n      <td>100</td>\n      <td>100</td>\n      <td>100</td>\n      <td>100</td>\n      <td>100</td>\n      <td>100</td>\n      <td>100</td>\n      <td>100</td>\n      <td>100</td>\n      <td>100</td>\n      <td>...</td>\n      <td>100</td>\n      <td>100</td>\n      <td>100</td>\n      <td>100</td>\n      <td>100</td>\n      <td>100</td>\n      <td>100</td>\n      <td>100</td>\n      <td>100</td>\n      <td>1</td>\n    </tr>\n    <tr>\n      <th>12850</th>\n      <td>100</td>\n      <td>100</td>\n      <td>100</td>\n      <td>100</td>\n      <td>100</td>\n      <td>100</td>\n      <td>100</td>\n      <td>100</td>\n      <td>100</td>\n      <td>100</td>\n      <td>...</td>\n      <td>100</td>\n      <td>100</td>\n      <td>100</td>\n      <td>100</td>\n      <td>100</td>\n      <td>100</td>\n      <td>100</td>\n      <td>100</td>\n      <td>100</td>\n      <td>1</td>\n    </tr>\n    <tr>\n      <th>11311</th>\n      <td>100</td>\n      <td>100</td>\n      <td>100</td>\n      <td>100</td>\n      <td>100</td>\n      <td>100</td>\n      <td>100</td>\n      <td>100</td>\n      <td>100</td>\n      <td>100</td>\n      <td>...</td>\n      <td>100</td>\n      <td>100</td>\n      <td>100</td>\n      <td>100</td>\n      <td>100</td>\n      <td>100</td>\n      <td>100</td>\n      <td>100</td>\n      <td>100</td>\n      <td>0</td>\n    </tr>\n    <tr>\n      <th>...</th>\n      <td>...</td>\n      <td>...</td>\n      <td>...</td>\n      <td>...</td>\n      <td>...</td>\n      <td>...</td>\n      <td>...</td>\n      <td>...</td>\n      <td>...</td>\n      <td>...</td>\n      <td>...</td>\n      <td>...</td>\n      <td>...</td>\n      <td>...</td>\n      <td>...</td>\n      <td>...</td>\n      <td>...</td>\n      <td>...</td>\n      <td>...</td>\n      <td>...</td>\n      <td>...</td>\n    </tr>\n    <tr>\n      <th>5849</th>\n      <td>100</td>\n      <td>100</td>\n      <td>100</td>\n      <td>100</td>\n      <td>100</td>\n      <td>100</td>\n      <td>100</td>\n      <td>100</td>\n      <td>100</td>\n      <td>100</td>\n      <td>...</td>\n      <td>100</td>\n      <td>100</td>\n      <td>100</td>\n      <td>100</td>\n      <td>-62</td>\n      <td>100</td>\n      <td>100</td>\n      <td>100</td>\n      <td>100</td>\n      <td>2</td>\n    </tr>\n    <tr>\n      <th>17994</th>\n      <td>100</td>\n      <td>100</td>\n      <td>100</td>\n      <td>100</td>\n      <td>100</td>\n      <td>100</td>\n      <td>100</td>\n      <td>100</td>\n      <td>100</td>\n      <td>100</td>\n      <td>...</td>\n      <td>100</td>\n      <td>100</td>\n      <td>100</td>\n      <td>100</td>\n      <td>100</td>\n      <td>100</td>\n      <td>100</td>\n      <td>100</td>\n      <td>100</td>\n      <td>0</td>\n    </tr>\n    <tr>\n      <th>25</th>\n      <td>100</td>\n      <td>100</td>\n      <td>100</td>\n      <td>100</td>\n      <td>100</td>\n      <td>100</td>\n      <td>100</td>\n      <td>100</td>\n      <td>100</td>\n      <td>100</td>\n      <td>...</td>\n      <td>100</td>\n      <td>100</td>\n      <td>100</td>\n      <td>100</td>\n      <td>100</td>\n      <td>100</td>\n      <td>100</td>\n      <td>100</td>\n      <td>100</td>\n      <td>1</td>\n    </tr>\n    <tr>\n      <th>4249</th>\n      <td>100</td>\n      <td>100</td>\n      <td>100</td>\n      <td>100</td>\n      <td>100</td>\n      <td>-91</td>\n      <td>100</td>\n      <td>100</td>\n      <td>100</td>\n      <td>100</td>\n      <td>...</td>\n      <td>100</td>\n      <td>100</td>\n      <td>100</td>\n      <td>100</td>\n      <td>100</td>\n      <td>100</td>\n      <td>100</td>\n      <td>100</td>\n      <td>100</td>\n      <td>1</td>\n    </tr>\n    <tr>\n      <th>2064</th>\n      <td>100</td>\n      <td>100</td>\n      <td>100</td>\n      <td>100</td>\n      <td>100</td>\n      <td>100</td>\n      <td>100</td>\n      <td>100</td>\n      <td>100</td>\n      <td>100</td>\n      <td>...</td>\n      <td>100</td>\n      <td>100</td>\n      <td>100</td>\n      <td>100</td>\n      <td>100</td>\n      <td>100</td>\n      <td>100</td>\n      <td>100</td>\n      <td>100</td>\n      <td>2</td>\n    </tr>\n  </tbody>\n</table>\n<p>11962 rows × 521 columns</p>\n</div>"
     },
     "execution_count": 19,
     "metadata": {},
     "output_type": "execute_result"
    }
   ],
   "source": [
    "# [2] 60% samples\n",
    "train_60 = train.sample(frac=0.6,random_state=1)\n",
    "train_60"
   ]
  },
  {
   "cell_type": "code",
   "execution_count": 20,
   "outputs": [
    {
     "name": "stdout",
     "output_type": "stream",
     "text": [
      "F1 Score: 0.989\n"
     ]
    }
   ],
   "source": [
    "x_train = train_60.iloc[:,:-1]\n",
    "y_train = train_60.iloc[:,-1]\n",
    "\n",
    "knn = KNeighborsClassifier(n_neighbors=3)\n",
    "knn.fit(x_train, y_train)\n",
    "y_pred = knn.predict(x_test)\n",
    "f1_scores_60 = f1_score(y_test, y_pred, average='macro')\n",
    "F1_list.append(f1_scores_60)\n",
    "print(f'F1 Score: {f1_scores_60:.3f}')"
   ],
   "metadata": {
    "collapsed": false,
    "pycharm": {
     "name": "#%%\n"
    }
   }
  },
  {
   "cell_type": "code",
   "execution_count": 21,
   "metadata": {
    "pycharm": {
     "name": "#%%\n"
    }
   },
   "outputs": [
    {
     "data": {
      "text/plain": "       WAP001  WAP002  WAP003  WAP004  WAP005  WAP006  WAP007  WAP008  WAP009  \\\n7107      100     100     100     100     100     100     100     100     100   \n12603     100     100     100     100     100     100     100     -83     100   \n19424     100     100     100     100     100     100     100     100     100   \n12850     100     100     100     100     100     100     100     100     100   \n11311     100     100     100     100     100     100     100     100     100   \n...       ...     ...     ...     ...     ...     ...     ...     ...     ...   \n17171     100     100     100     100     100     100     100     100     100   \n12986     100     100     100     100     100     100     100     100     100   \n10481     100     100     100     100     100     100     100     100     -74   \n10558     100     100     100     100     100     100     100     100     100   \n9077      100     100     100     100     100     100     100     100     100   \n\n       WAP010  ...  WAP512  WAP513  WAP514  WAP515  WAP516  WAP517  WAP518  \\\n7107      100  ...     100     100     100     100     -44     100     100   \n12603     100  ...     100     100     100     100     100     100     100   \n19424     100  ...     100     100     100     100     100     100     100   \n12850     100  ...     100     100     100     100     100     100     100   \n11311     100  ...     100     100     100     100     100     100     100   \n...       ...  ...     ...     ...     ...     ...     ...     ...     ...   \n17171     100  ...     100     100     100     100     100     100     100   \n12986     100  ...     100     100     100     100     100     -73     100   \n10481     100  ...     100     100     100     100     100     100     100   \n10558     100  ...     100     100     100     100     100     -66     100   \n9077      100  ...     100     100     100     100     100     100     100   \n\n       WAP519  WAP520  BUILDINGID  \n7107      100     100           2  \n12603     100     100           1  \n19424     100     100           1  \n12850     100     100           1  \n11311     100     100           0  \n...       ...     ...         ...  \n17171     100     100           0  \n12986     100     100           2  \n10481     100     100           0  \n10558     100     100           2  \n9077      100     100           0  \n\n[15950 rows x 521 columns]",
      "text/html": "<div>\n<style scoped>\n    .dataframe tbody tr th:only-of-type {\n        vertical-align: middle;\n    }\n\n    .dataframe tbody tr th {\n        vertical-align: top;\n    }\n\n    .dataframe thead th {\n        text-align: right;\n    }\n</style>\n<table border=\"1\" class=\"dataframe\">\n  <thead>\n    <tr style=\"text-align: right;\">\n      <th></th>\n      <th>WAP001</th>\n      <th>WAP002</th>\n      <th>WAP003</th>\n      <th>WAP004</th>\n      <th>WAP005</th>\n      <th>WAP006</th>\n      <th>WAP007</th>\n      <th>WAP008</th>\n      <th>WAP009</th>\n      <th>WAP010</th>\n      <th>...</th>\n      <th>WAP512</th>\n      <th>WAP513</th>\n      <th>WAP514</th>\n      <th>WAP515</th>\n      <th>WAP516</th>\n      <th>WAP517</th>\n      <th>WAP518</th>\n      <th>WAP519</th>\n      <th>WAP520</th>\n      <th>BUILDINGID</th>\n    </tr>\n  </thead>\n  <tbody>\n    <tr>\n      <th>7107</th>\n      <td>100</td>\n      <td>100</td>\n      <td>100</td>\n      <td>100</td>\n      <td>100</td>\n      <td>100</td>\n      <td>100</td>\n      <td>100</td>\n      <td>100</td>\n      <td>100</td>\n      <td>...</td>\n      <td>100</td>\n      <td>100</td>\n      <td>100</td>\n      <td>100</td>\n      <td>-44</td>\n      <td>100</td>\n      <td>100</td>\n      <td>100</td>\n      <td>100</td>\n      <td>2</td>\n    </tr>\n    <tr>\n      <th>12603</th>\n      <td>100</td>\n      <td>100</td>\n      <td>100</td>\n      <td>100</td>\n      <td>100</td>\n      <td>100</td>\n      <td>100</td>\n      <td>-83</td>\n      <td>100</td>\n      <td>100</td>\n      <td>...</td>\n      <td>100</td>\n      <td>100</td>\n      <td>100</td>\n      <td>100</td>\n      <td>100</td>\n      <td>100</td>\n      <td>100</td>\n      <td>100</td>\n      <td>100</td>\n      <td>1</td>\n    </tr>\n    <tr>\n      <th>19424</th>\n      <td>100</td>\n      <td>100</td>\n      <td>100</td>\n      <td>100</td>\n      <td>100</td>\n      <td>100</td>\n      <td>100</td>\n      <td>100</td>\n      <td>100</td>\n      <td>100</td>\n      <td>...</td>\n      <td>100</td>\n      <td>100</td>\n      <td>100</td>\n      <td>100</td>\n      <td>100</td>\n      <td>100</td>\n      <td>100</td>\n      <td>100</td>\n      <td>100</td>\n      <td>1</td>\n    </tr>\n    <tr>\n      <th>12850</th>\n      <td>100</td>\n      <td>100</td>\n      <td>100</td>\n      <td>100</td>\n      <td>100</td>\n      <td>100</td>\n      <td>100</td>\n      <td>100</td>\n      <td>100</td>\n      <td>100</td>\n      <td>...</td>\n      <td>100</td>\n      <td>100</td>\n      <td>100</td>\n      <td>100</td>\n      <td>100</td>\n      <td>100</td>\n      <td>100</td>\n      <td>100</td>\n      <td>100</td>\n      <td>1</td>\n    </tr>\n    <tr>\n      <th>11311</th>\n      <td>100</td>\n      <td>100</td>\n      <td>100</td>\n      <td>100</td>\n      <td>100</td>\n      <td>100</td>\n      <td>100</td>\n      <td>100</td>\n      <td>100</td>\n      <td>100</td>\n      <td>...</td>\n      <td>100</td>\n      <td>100</td>\n      <td>100</td>\n      <td>100</td>\n      <td>100</td>\n      <td>100</td>\n      <td>100</td>\n      <td>100</td>\n      <td>100</td>\n      <td>0</td>\n    </tr>\n    <tr>\n      <th>...</th>\n      <td>...</td>\n      <td>...</td>\n      <td>...</td>\n      <td>...</td>\n      <td>...</td>\n      <td>...</td>\n      <td>...</td>\n      <td>...</td>\n      <td>...</td>\n      <td>...</td>\n      <td>...</td>\n      <td>...</td>\n      <td>...</td>\n      <td>...</td>\n      <td>...</td>\n      <td>...</td>\n      <td>...</td>\n      <td>...</td>\n      <td>...</td>\n      <td>...</td>\n      <td>...</td>\n    </tr>\n    <tr>\n      <th>17171</th>\n      <td>100</td>\n      <td>100</td>\n      <td>100</td>\n      <td>100</td>\n      <td>100</td>\n      <td>100</td>\n      <td>100</td>\n      <td>100</td>\n      <td>100</td>\n      <td>100</td>\n      <td>...</td>\n      <td>100</td>\n      <td>100</td>\n      <td>100</td>\n      <td>100</td>\n      <td>100</td>\n      <td>100</td>\n      <td>100</td>\n      <td>100</td>\n      <td>100</td>\n      <td>0</td>\n    </tr>\n    <tr>\n      <th>12986</th>\n      <td>100</td>\n      <td>100</td>\n      <td>100</td>\n      <td>100</td>\n      <td>100</td>\n      <td>100</td>\n      <td>100</td>\n      <td>100</td>\n      <td>100</td>\n      <td>100</td>\n      <td>...</td>\n      <td>100</td>\n      <td>100</td>\n      <td>100</td>\n      <td>100</td>\n      <td>100</td>\n      <td>-73</td>\n      <td>100</td>\n      <td>100</td>\n      <td>100</td>\n      <td>2</td>\n    </tr>\n    <tr>\n      <th>10481</th>\n      <td>100</td>\n      <td>100</td>\n      <td>100</td>\n      <td>100</td>\n      <td>100</td>\n      <td>100</td>\n      <td>100</td>\n      <td>100</td>\n      <td>-74</td>\n      <td>100</td>\n      <td>...</td>\n      <td>100</td>\n      <td>100</td>\n      <td>100</td>\n      <td>100</td>\n      <td>100</td>\n      <td>100</td>\n      <td>100</td>\n      <td>100</td>\n      <td>100</td>\n      <td>0</td>\n    </tr>\n    <tr>\n      <th>10558</th>\n      <td>100</td>\n      <td>100</td>\n      <td>100</td>\n      <td>100</td>\n      <td>100</td>\n      <td>100</td>\n      <td>100</td>\n      <td>100</td>\n      <td>100</td>\n      <td>100</td>\n      <td>...</td>\n      <td>100</td>\n      <td>100</td>\n      <td>100</td>\n      <td>100</td>\n      <td>100</td>\n      <td>-66</td>\n      <td>100</td>\n      <td>100</td>\n      <td>100</td>\n      <td>2</td>\n    </tr>\n    <tr>\n      <th>9077</th>\n      <td>100</td>\n      <td>100</td>\n      <td>100</td>\n      <td>100</td>\n      <td>100</td>\n      <td>100</td>\n      <td>100</td>\n      <td>100</td>\n      <td>100</td>\n      <td>100</td>\n      <td>...</td>\n      <td>100</td>\n      <td>100</td>\n      <td>100</td>\n      <td>100</td>\n      <td>100</td>\n      <td>100</td>\n      <td>100</td>\n      <td>100</td>\n      <td>100</td>\n      <td>0</td>\n    </tr>\n  </tbody>\n</table>\n<p>15950 rows × 521 columns</p>\n</div>"
     },
     "execution_count": 21,
     "metadata": {},
     "output_type": "execute_result"
    }
   ],
   "source": [
    "# [3] 80% sample\n",
    "train_80 = train.sample(frac=0.8, random_state=1)\n",
    "train_80"
   ]
  },
  {
   "cell_type": "code",
   "execution_count": 22,
   "outputs": [
    {
     "name": "stdout",
     "output_type": "stream",
     "text": [
      "F1 Score: 0.989\n"
     ]
    }
   ],
   "source": [
    "x_train = train_80.iloc[:,:-1]\n",
    "y_train = train_80.iloc[:,-1]\n",
    "\n",
    "knn = KNeighborsClassifier(n_neighbors=3)\n",
    "knn.fit(x_train, y_train)\n",
    "y_pred = knn.predict(x_test)\n",
    "f1_scores_80 = f1_score(y_test, y_pred, average='macro')\n",
    "F1_list.append(f1_scores_80)\n",
    "print(f'F1 Score: {f1_scores_80:.3f}')"
   ],
   "metadata": {
    "collapsed": false,
    "pycharm": {
     "name": "#%%\n"
    }
   }
  },
  {
   "cell_type": "code",
   "execution_count": 23,
   "metadata": {
    "pycharm": {
     "name": "#%%\n"
    }
   },
   "outputs": [
    {
     "data": {
      "text/plain": "       WAP001  WAP002  WAP003  WAP004  WAP005  WAP006  WAP007  WAP008  WAP009  \\\n7107      100     100     100     100     100     100     100     100     100   \n12603     100     100     100     100     100     100     100     -83     100   \n19424     100     100     100     100     100     100     100     100     100   \n12850     100     100     100     100     100     100     100     100     100   \n11311     100     100     100     100     100     100     100     100     100   \n...       ...     ...     ...     ...     ...     ...     ...     ...     ...   \n10955     100     100     100     100     100     100     100     100     100   \n17289     100     100     100     100     100     100     100     100     100   \n5192      100     100     100     100     100     100     100     100     100   \n12172     100     100     100     100     100     100     100     100     100   \n235       100     100     100     100     100     100     100     100     100   \n\n       WAP010  ...  WAP512  WAP513  WAP514  WAP515  WAP516  WAP517  WAP518  \\\n7107      100  ...     100     100     100     100     -44     100     100   \n12603     100  ...     100     100     100     100     100     100     100   \n19424     100  ...     100     100     100     100     100     100     100   \n12850     100  ...     100     100     100     100     100     100     100   \n11311     100  ...     100     100     100     100     100     100     100   \n...       ...  ...     ...     ...     ...     ...     ...     ...     ...   \n10955     100  ...     100     100     100     100     100     100     100   \n17289     100  ...     100     100     100     100     100     100     100   \n5192      100  ...     100     100     100     100     -83     -76     100   \n12172     100  ...     100     100     100     100     100     100     100   \n235       100  ...     100     100     100     100     100     100     100   \n\n       WAP519  WAP520  BUILDINGID  \n7107      100     100           2  \n12603     100     100           1  \n19424     100     100           1  \n12850     100     100           1  \n11311     100     100           0  \n...       ...     ...         ...  \n10955     100     100           0  \n17289     100     100           0  \n5192      100     100           2  \n12172     100     100           1  \n235       100     100           1  \n\n[19937 rows x 521 columns]",
      "text/html": "<div>\n<style scoped>\n    .dataframe tbody tr th:only-of-type {\n        vertical-align: middle;\n    }\n\n    .dataframe tbody tr th {\n        vertical-align: top;\n    }\n\n    .dataframe thead th {\n        text-align: right;\n    }\n</style>\n<table border=\"1\" class=\"dataframe\">\n  <thead>\n    <tr style=\"text-align: right;\">\n      <th></th>\n      <th>WAP001</th>\n      <th>WAP002</th>\n      <th>WAP003</th>\n      <th>WAP004</th>\n      <th>WAP005</th>\n      <th>WAP006</th>\n      <th>WAP007</th>\n      <th>WAP008</th>\n      <th>WAP009</th>\n      <th>WAP010</th>\n      <th>...</th>\n      <th>WAP512</th>\n      <th>WAP513</th>\n      <th>WAP514</th>\n      <th>WAP515</th>\n      <th>WAP516</th>\n      <th>WAP517</th>\n      <th>WAP518</th>\n      <th>WAP519</th>\n      <th>WAP520</th>\n      <th>BUILDINGID</th>\n    </tr>\n  </thead>\n  <tbody>\n    <tr>\n      <th>7107</th>\n      <td>100</td>\n      <td>100</td>\n      <td>100</td>\n      <td>100</td>\n      <td>100</td>\n      <td>100</td>\n      <td>100</td>\n      <td>100</td>\n      <td>100</td>\n      <td>100</td>\n      <td>...</td>\n      <td>100</td>\n      <td>100</td>\n      <td>100</td>\n      <td>100</td>\n      <td>-44</td>\n      <td>100</td>\n      <td>100</td>\n      <td>100</td>\n      <td>100</td>\n      <td>2</td>\n    </tr>\n    <tr>\n      <th>12603</th>\n      <td>100</td>\n      <td>100</td>\n      <td>100</td>\n      <td>100</td>\n      <td>100</td>\n      <td>100</td>\n      <td>100</td>\n      <td>-83</td>\n      <td>100</td>\n      <td>100</td>\n      <td>...</td>\n      <td>100</td>\n      <td>100</td>\n      <td>100</td>\n      <td>100</td>\n      <td>100</td>\n      <td>100</td>\n      <td>100</td>\n      <td>100</td>\n      <td>100</td>\n      <td>1</td>\n    </tr>\n    <tr>\n      <th>19424</th>\n      <td>100</td>\n      <td>100</td>\n      <td>100</td>\n      <td>100</td>\n      <td>100</td>\n      <td>100</td>\n      <td>100</td>\n      <td>100</td>\n      <td>100</td>\n      <td>100</td>\n      <td>...</td>\n      <td>100</td>\n      <td>100</td>\n      <td>100</td>\n      <td>100</td>\n      <td>100</td>\n      <td>100</td>\n      <td>100</td>\n      <td>100</td>\n      <td>100</td>\n      <td>1</td>\n    </tr>\n    <tr>\n      <th>12850</th>\n      <td>100</td>\n      <td>100</td>\n      <td>100</td>\n      <td>100</td>\n      <td>100</td>\n      <td>100</td>\n      <td>100</td>\n      <td>100</td>\n      <td>100</td>\n      <td>100</td>\n      <td>...</td>\n      <td>100</td>\n      <td>100</td>\n      <td>100</td>\n      <td>100</td>\n      <td>100</td>\n      <td>100</td>\n      <td>100</td>\n      <td>100</td>\n      <td>100</td>\n      <td>1</td>\n    </tr>\n    <tr>\n      <th>11311</th>\n      <td>100</td>\n      <td>100</td>\n      <td>100</td>\n      <td>100</td>\n      <td>100</td>\n      <td>100</td>\n      <td>100</td>\n      <td>100</td>\n      <td>100</td>\n      <td>100</td>\n      <td>...</td>\n      <td>100</td>\n      <td>100</td>\n      <td>100</td>\n      <td>100</td>\n      <td>100</td>\n      <td>100</td>\n      <td>100</td>\n      <td>100</td>\n      <td>100</td>\n      <td>0</td>\n    </tr>\n    <tr>\n      <th>...</th>\n      <td>...</td>\n      <td>...</td>\n      <td>...</td>\n      <td>...</td>\n      <td>...</td>\n      <td>...</td>\n      <td>...</td>\n      <td>...</td>\n      <td>...</td>\n      <td>...</td>\n      <td>...</td>\n      <td>...</td>\n      <td>...</td>\n      <td>...</td>\n      <td>...</td>\n      <td>...</td>\n      <td>...</td>\n      <td>...</td>\n      <td>...</td>\n      <td>...</td>\n      <td>...</td>\n    </tr>\n    <tr>\n      <th>10955</th>\n      <td>100</td>\n      <td>100</td>\n      <td>100</td>\n      <td>100</td>\n      <td>100</td>\n      <td>100</td>\n      <td>100</td>\n      <td>100</td>\n      <td>100</td>\n      <td>100</td>\n      <td>...</td>\n      <td>100</td>\n      <td>100</td>\n      <td>100</td>\n      <td>100</td>\n      <td>100</td>\n      <td>100</td>\n      <td>100</td>\n      <td>100</td>\n      <td>100</td>\n      <td>0</td>\n    </tr>\n    <tr>\n      <th>17289</th>\n      <td>100</td>\n      <td>100</td>\n      <td>100</td>\n      <td>100</td>\n      <td>100</td>\n      <td>100</td>\n      <td>100</td>\n      <td>100</td>\n      <td>100</td>\n      <td>100</td>\n      <td>...</td>\n      <td>100</td>\n      <td>100</td>\n      <td>100</td>\n      <td>100</td>\n      <td>100</td>\n      <td>100</td>\n      <td>100</td>\n      <td>100</td>\n      <td>100</td>\n      <td>0</td>\n    </tr>\n    <tr>\n      <th>5192</th>\n      <td>100</td>\n      <td>100</td>\n      <td>100</td>\n      <td>100</td>\n      <td>100</td>\n      <td>100</td>\n      <td>100</td>\n      <td>100</td>\n      <td>100</td>\n      <td>100</td>\n      <td>...</td>\n      <td>100</td>\n      <td>100</td>\n      <td>100</td>\n      <td>100</td>\n      <td>-83</td>\n      <td>-76</td>\n      <td>100</td>\n      <td>100</td>\n      <td>100</td>\n      <td>2</td>\n    </tr>\n    <tr>\n      <th>12172</th>\n      <td>100</td>\n      <td>100</td>\n      <td>100</td>\n      <td>100</td>\n      <td>100</td>\n      <td>100</td>\n      <td>100</td>\n      <td>100</td>\n      <td>100</td>\n      <td>100</td>\n      <td>...</td>\n      <td>100</td>\n      <td>100</td>\n      <td>100</td>\n      <td>100</td>\n      <td>100</td>\n      <td>100</td>\n      <td>100</td>\n      <td>100</td>\n      <td>100</td>\n      <td>1</td>\n    </tr>\n    <tr>\n      <th>235</th>\n      <td>100</td>\n      <td>100</td>\n      <td>100</td>\n      <td>100</td>\n      <td>100</td>\n      <td>100</td>\n      <td>100</td>\n      <td>100</td>\n      <td>100</td>\n      <td>100</td>\n      <td>...</td>\n      <td>100</td>\n      <td>100</td>\n      <td>100</td>\n      <td>100</td>\n      <td>100</td>\n      <td>100</td>\n      <td>100</td>\n      <td>100</td>\n      <td>100</td>\n      <td>1</td>\n    </tr>\n  </tbody>\n</table>\n<p>19937 rows × 521 columns</p>\n</div>"
     },
     "execution_count": 23,
     "metadata": {},
     "output_type": "execute_result"
    }
   ],
   "source": [
    "# [4] 100% sample\n",
    "train_100 = train.sample(frac=1.0, random_state=1)\n",
    "train_100"
   ]
  },
  {
   "cell_type": "code",
   "execution_count": 24,
   "outputs": [
    {
     "name": "stdout",
     "output_type": "stream",
     "text": [
      "F1 Score: 0.990\n"
     ]
    }
   ],
   "source": [
    "x_train = train_100.iloc[:,:-1]\n",
    "y_train = train_100.iloc[:,-1]\n",
    "\n",
    "knn = KNeighborsClassifier(n_neighbors=3)\n",
    "knn.fit(x_train, y_train)\n",
    "y_pred = knn.predict(x_test)\n",
    "f1_scores_100 = f1_score(y_test, y_pred, average='macro')\n",
    "F1_list.append(f1_scores_100)\n",
    "print(f'F1 Score: {f1_scores_100:.3f}')"
   ],
   "metadata": {
    "collapsed": false,
    "pycharm": {
     "name": "#%%\n"
    }
   }
  },
  {
   "cell_type": "markdown",
   "source": [
    "#### [Step 2]\n",
    "Discuss the efficiency of increasing the data size on the model we selected."
   ],
   "metadata": {
    "collapsed": false,
    "pycharm": {
     "name": "#%% md\n"
    }
   }
  },
  {
   "cell_type": "code",
   "execution_count": 25,
   "outputs": [
    {
     "data": {
      "text/plain": "[<matplotlib.lines.Line2D at 0x2980169d0>]"
     },
     "execution_count": 25,
     "metadata": {},
     "output_type": "execute_result"
    },
    {
     "data": {
      "text/plain": "<Figure size 432x288 with 1 Axes>",
      "image/png": "[encoded data removed]"
     },
     "metadata": {
      "needs_background": "light"
     },
     "output_type": "display_data"
    }
   ],
   "source": [
    "# plot graph\n",
    "size = [0,20,40,80,100]\n",
    "plt.plot(size,F1_list,label = 'F1 Scores')"
   ],
   "metadata": {
    "collapsed": false,
    "pycharm": {
     "name": "#%%\n"
    }
   }
  },
  {
   "cell_type": "code",
   "execution_count": 26,
   "outputs": [
    {
     "name": "stdout",
     "output_type": "stream",
     "text": [
      "Sample Size      F1 Scores\n",
      "-------------  -----------\n",
      "20%               0.976\n",
      "40%               0.986892\n",
      "60%               0.988932\n",
      "80%               0.988932\n",
      "100%              0.989801\n"
     ]
    }
   ],
   "source": [
    "# create a table\n",
    "from tabulate import tabulate\n",
    "sample_size = {'Sample Size':['20%','40%','60%','80%','100%'], 'F1 Scores': [f1_scores_20,f1_scores_40,f1_scores_60,f1_scores_80,f1_scores_100]}\n",
    "print(tabulate(sample_size,headers='keys'))"
   ],
   "metadata": {
    "collapsed": false,
    "pycharm": {
     "name": "#%%\n"
    }
   }
  },
  {
   "cell_type": "markdown",
   "metadata": {
    "pycharm": {
     "name": "#%% md\n"
    }
   },
   "source": [
    "### Conclusion"
   ]
  },
  {
   "cell_type": "markdown",
   "metadata": {
    "pycharm": {
     "name": "#%% md\n"
    }
   },
   "source": [
    "`By increasing 20% sample size of each time to observe the model performance, we found that efficiency of the model is also increased. In this case, we conclude that increasing sample size can make the model more efficiency. However, we select random samples - the accuracy scores always increasingly change but steepness could be different.`"
   ]
  }
 ],
 "metadata": {
  "kernelspec": {
   "display_name": "Python 3 (ipykernel)",
   "language": "python",
   "name": "python3"
  },
  "language_info": {
   "codemirror_mode": {
    "name": "ipython",
    "version": 3
   },
   "file_extension": ".py",
   "mimetype": "text/x-python",
   "name": "python",
   "nbconvert_exporter": "python",
   "pygments_lexer": "ipython3",
   "version": "3.8.9"
  }
 },
 "nbformat": 4,
 "nbformat_minor": 1
}