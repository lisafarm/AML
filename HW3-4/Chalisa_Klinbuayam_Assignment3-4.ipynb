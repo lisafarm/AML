{
 "cells": [
  {
   "cell_type": "markdown",
   "source": [
    "## Assignment 3\n",
    "### MSDA3050 Spring 2022\n",
    "Chalisa Klinbuayam"
   ],
   "metadata": {
    "collapsed": false
   }
  },
  {
   "cell_type": "markdown",
   "source": [
    "### Case Study on Wifi Dataset\n",
    "Classification model.\n",
    "Using Wifi Dataset: UJIIndoorLoc Data Set https://archive.ics.uci.edu/ml/datasets/ujiindoorloc"
   ],
   "metadata": {
    "collapsed": false,
    "pycharm": {
     "name": "#%% md\n"
    }
   }
  },
  {
   "cell_type": "markdown",
   "source": [
    "### Objective\n",
    "`The purpose of this practice is to study classification in applied machine learning by estimating the position of the user from Wifi access dataset`"
   ],
   "metadata": {
    "collapsed": false,
    "pycharm": {
     "name": "#%% md\n"
    }
   }
  },
  {
   "cell_type": "code",
   "execution_count": 24,
   "outputs": [],
   "source": [
    "import pandas as pd\n",
    "import matplotlib.pyplot as plt\n",
    "import numpy as np\n",
    "from sklearn.neighbors import KNeighborsClassifier\n",
    "from sklearn.model_selection import train_test_split"
   ],
   "metadata": {
    "collapsed": false,
    "pycharm": {
     "name": "#%%\n"
    }
   }
  },
  {
   "cell_type": "markdown",
   "source": [
    "#### [Step 1]"
   ],
   "metadata": {
    "collapsed": false,
    "pycharm": {
     "name": "#%% md\n"
    }
   }
  },
  {
   "cell_type": "code",
   "execution_count": 25,
   "outputs": [
    {
     "data": {
      "text/plain": "   WAP001  WAP002  WAP003  WAP004  WAP005  WAP006  WAP007  WAP008  WAP009  \\\n0     100     100     100     100     100     100     100     100     100   \n1     100     100     100     100     100     100     100     100     100   \n2     100     100     100     100     100     100     100     -97     100   \n3     100     100     100     100     100     100     100     100     100   \n4     100     100     100     100     100     100     100     100     100   \n\n   WAP010  ...  WAP520  LONGITUDE      LATITUDE  FLOOR  BUILDINGID  SPACEID  \\\n0     100  ...     100 -7541.2643  4.864921e+06      2           1      106   \n1     100  ...     100 -7536.6212  4.864934e+06      2           1      106   \n2     100  ...     100 -7519.1524  4.864950e+06      2           1      103   \n3     100  ...     100 -7524.5704  4.864934e+06      2           1      102   \n4     100  ...     100 -7632.1436  4.864982e+06      0           0      122   \n\n   RELATIVEPOSITION  USERID  PHONEID   TIMESTAMP  \n0                 2       2       23  1371713733  \n1                 2       2       23  1371713691  \n2                 2       2       23  1371714095  \n3                 2       2       23  1371713807  \n4                 2      11       13  1369909710  \n\n[5 rows x 529 columns]",
      "text/html": "<div>\n<style scoped>\n    .dataframe tbody tr th:only-of-type {\n        vertical-align: middle;\n    }\n\n    .dataframe tbody tr th {\n        vertical-align: top;\n    }\n\n    .dataframe thead th {\n        text-align: right;\n    }\n</style>\n<table border=\"1\" class=\"dataframe\">\n  <thead>\n    <tr style=\"text-align: right;\">\n      <th></th>\n      <th>WAP001</th>\n      <th>WAP002</th>\n      <th>WAP003</th>\n      <th>WAP004</th>\n      <th>WAP005</th>\n      <th>WAP006</th>\n      <th>WAP007</th>\n      <th>WAP008</th>\n      <th>WAP009</th>\n      <th>WAP010</th>\n      <th>...</th>\n      <th>WAP520</th>\n      <th>LONGITUDE</th>\n      <th>LATITUDE</th>\n      <th>FLOOR</th>\n      <th>BUILDINGID</th>\n      <th>SPACEID</th>\n      <th>RELATIVEPOSITION</th>\n      <th>USERID</th>\n      <th>PHONEID</th>\n      <th>TIMESTAMP</th>\n    </tr>\n  </thead>\n  <tbody>\n    <tr>\n      <th>0</th>\n      <td>100</td>\n      <td>100</td>\n      <td>100</td>\n      <td>100</td>\n      <td>100</td>\n      <td>100</td>\n      <td>100</td>\n      <td>100</td>\n      <td>100</td>\n      <td>100</td>\n      <td>...</td>\n      <td>100</td>\n      <td>-7541.2643</td>\n      <td>4.864921e+06</td>\n      <td>2</td>\n      <td>1</td>\n      <td>106</td>\n      <td>2</td>\n      <td>2</td>\n      <td>23</td>\n      <td>1371713733</td>\n    </tr>\n    <tr>\n      <th>1</th>\n      <td>100</td>\n      <td>100</td>\n      <td>100</td>\n      <td>100</td>\n      <td>100</td>\n      <td>100</td>\n      <td>100</td>\n      <td>100</td>\n      <td>100</td>\n      <td>100</td>\n      <td>...</td>\n      <td>100</td>\n      <td>-7536.6212</td>\n      <td>4.864934e+06</td>\n      <td>2</td>\n      <td>1</td>\n      <td>106</td>\n      <td>2</td>\n      <td>2</td>\n      <td>23</td>\n      <td>1371713691</td>\n    </tr>\n    <tr>\n      <th>2</th>\n      <td>100</td>\n      <td>100</td>\n      <td>100</td>\n      <td>100</td>\n      <td>100</td>\n      <td>100</td>\n      <td>100</td>\n      <td>-97</td>\n      <td>100</td>\n      <td>100</td>\n      <td>...</td>\n      <td>100</td>\n      <td>-7519.1524</td>\n      <td>4.864950e+06</td>\n      <td>2</td>\n      <td>1</td>\n      <td>103</td>\n      <td>2</td>\n      <td>2</td>\n      <td>23</td>\n      <td>1371714095</td>\n    </tr>\n    <tr>\n      <th>3</th>\n      <td>100</td>\n      <td>100</td>\n      <td>100</td>\n      <td>100</td>\n      <td>100</td>\n      <td>100</td>\n      <td>100</td>\n      <td>100</td>\n      <td>100</td>\n      <td>100</td>\n      <td>...</td>\n      <td>100</td>\n      <td>-7524.5704</td>\n      <td>4.864934e+06</td>\n      <td>2</td>\n      <td>1</td>\n      <td>102</td>\n      <td>2</td>\n      <td>2</td>\n      <td>23</td>\n      <td>1371713807</td>\n    </tr>\n    <tr>\n      <th>4</th>\n      <td>100</td>\n      <td>100</td>\n      <td>100</td>\n      <td>100</td>\n      <td>100</td>\n      <td>100</td>\n      <td>100</td>\n      <td>100</td>\n      <td>100</td>\n      <td>100</td>\n      <td>...</td>\n      <td>100</td>\n      <td>-7632.1436</td>\n      <td>4.864982e+06</td>\n      <td>0</td>\n      <td>0</td>\n      <td>122</td>\n      <td>2</td>\n      <td>11</td>\n      <td>13</td>\n      <td>1369909710</td>\n    </tr>\n  </tbody>\n</table>\n<p>5 rows × 529 columns</p>\n</div>"
     },
     "execution_count": 25,
     "metadata": {},
     "output_type": "execute_result"
    }
   ],
   "source": [
    "# Read dataset (Training dataset)\n",
    "train = pd.read_csv('trainingData.csv')\n",
    "train.head(5)"
   ],
   "metadata": {
    "collapsed": false,
    "pycharm": {
     "name": "#%%\n"
    }
   }
  },
  {
   "cell_type": "code",
   "execution_count": 26,
   "outputs": [
    {
     "data": {
      "text/plain": "   WAP001  WAP002  WAP003  WAP004  WAP005  WAP006  WAP007  WAP008  WAP009  \\\n0     100     100     100     100     100     100     100     100     100   \n1     100     100     100     100     100     100     100     100     100   \n2     100     100     100     100     100     100     100     100     100   \n3     100     100     100     100     100     100     100     100     100   \n4     100     100     100     100     100     100     100     100     100   \n\n   WAP010  ...  WAP520    LONGITUDE      LATITUDE  FLOOR  BUILDINGID  SPACEID  \\\n0     100  ...     100 -7515.916799  4.864890e+06      1           1        0   \n1     100  ...     100 -7383.867221  4.864840e+06      4           2        0   \n2     100  ...     100 -7374.302080  4.864847e+06      4           2        0   \n3     100  ...     100 -7365.824883  4.864843e+06      4           2        0   \n4     100  ...     100 -7641.499303  4.864922e+06      2           0        0   \n\n   RELATIVEPOSITION  USERID  PHONEID   TIMESTAMP  \n0                 0       0        0  1380872703  \n1                 0       0       13  1381155054  \n2                 0       0       13  1381155095  \n3                 0       0       13  1381155138  \n4                 0       0        2  1380877774  \n\n[5 rows x 529 columns]",
      "text/html": "<div>\n<style scoped>\n    .dataframe tbody tr th:only-of-type {\n        vertical-align: middle;\n    }\n\n    .dataframe tbody tr th {\n        vertical-align: top;\n    }\n\n    .dataframe thead th {\n        text-align: right;\n    }\n</style>\n<table border=\"1\" class=\"dataframe\">\n  <thead>\n    <tr style=\"text-align: right;\">\n      <th></th>\n      <th>WAP001</th>\n      <th>WAP002</th>\n      <th>WAP003</th>\n      <th>WAP004</th>\n      <th>WAP005</th>\n      <th>WAP006</th>\n      <th>WAP007</th>\n      <th>WAP008</th>\n      <th>WAP009</th>\n      <th>WAP010</th>\n      <th>...</th>\n      <th>WAP520</th>\n      <th>LONGITUDE</th>\n      <th>LATITUDE</th>\n      <th>FLOOR</th>\n      <th>BUILDINGID</th>\n      <th>SPACEID</th>\n      <th>RELATIVEPOSITION</th>\n      <th>USERID</th>\n      <th>PHONEID</th>\n      <th>TIMESTAMP</th>\n    </tr>\n  </thead>\n  <tbody>\n    <tr>\n      <th>0</th>\n      <td>100</td>\n      <td>100</td>\n      <td>100</td>\n      <td>100</td>\n      <td>100</td>\n      <td>100</td>\n      <td>100</td>\n      <td>100</td>\n      <td>100</td>\n      <td>100</td>\n      <td>...</td>\n      <td>100</td>\n      <td>-7515.916799</td>\n      <td>4.864890e+06</td>\n      <td>1</td>\n      <td>1</td>\n      <td>0</td>\n      <td>0</td>\n      <td>0</td>\n      <td>0</td>\n      <td>1380872703</td>\n    </tr>\n    <tr>\n      <th>1</th>\n      <td>100</td>\n      <td>100</td>\n      <td>100</td>\n      <td>100</td>\n      <td>100</td>\n      <td>100</td>\n      <td>100</td>\n      <td>100</td>\n      <td>100</td>\n      <td>100</td>\n      <td>...</td>\n      <td>100</td>\n      <td>-7383.867221</td>\n      <td>4.864840e+06</td>\n      <td>4</td>\n      <td>2</td>\n      <td>0</td>\n      <td>0</td>\n      <td>0</td>\n      <td>13</td>\n      <td>1381155054</td>\n    </tr>\n    <tr>\n      <th>2</th>\n      <td>100</td>\n      <td>100</td>\n      <td>100</td>\n      <td>100</td>\n      <td>100</td>\n      <td>100</td>\n      <td>100</td>\n      <td>100</td>\n      <td>100</td>\n      <td>100</td>\n      <td>...</td>\n      <td>100</td>\n      <td>-7374.302080</td>\n      <td>4.864847e+06</td>\n      <td>4</td>\n      <td>2</td>\n      <td>0</td>\n      <td>0</td>\n      <td>0</td>\n      <td>13</td>\n      <td>1381155095</td>\n    </tr>\n    <tr>\n      <th>3</th>\n      <td>100</td>\n      <td>100</td>\n      <td>100</td>\n      <td>100</td>\n      <td>100</td>\n      <td>100</td>\n      <td>100</td>\n      <td>100</td>\n      <td>100</td>\n      <td>100</td>\n      <td>...</td>\n      <td>100</td>\n      <td>-7365.824883</td>\n      <td>4.864843e+06</td>\n      <td>4</td>\n      <td>2</td>\n      <td>0</td>\n      <td>0</td>\n      <td>0</td>\n      <td>13</td>\n      <td>1381155138</td>\n    </tr>\n    <tr>\n      <th>4</th>\n      <td>100</td>\n      <td>100</td>\n      <td>100</td>\n      <td>100</td>\n      <td>100</td>\n      <td>100</td>\n      <td>100</td>\n      <td>100</td>\n      <td>100</td>\n      <td>100</td>\n      <td>...</td>\n      <td>100</td>\n      <td>-7641.499303</td>\n      <td>4.864922e+06</td>\n      <td>2</td>\n      <td>0</td>\n      <td>0</td>\n      <td>0</td>\n      <td>0</td>\n      <td>2</td>\n      <td>1380877774</td>\n    </tr>\n  </tbody>\n</table>\n<p>5 rows × 529 columns</p>\n</div>"
     },
     "execution_count": 26,
     "metadata": {},
     "output_type": "execute_result"
    }
   ],
   "source": [
    "#  Read dataset (Testing dataset)\n",
    "test = pd.read_csv('validationData.csv')\n",
    "test.head(5)"
   ],
   "metadata": {
    "collapsed": false,
    "pycharm": {
     "name": "#%%\n"
    }
   }
  },
  {
   "cell_type": "markdown",
   "source": [
    "#### [Step 2]\n",
    "Visualization - create a scatter plot with latitude and longtitude."
   ],
   "metadata": {
    "collapsed": false,
    "pycharm": {
     "name": "#%% md\n"
    }
   }
  },
  {
   "cell_type": "code",
   "execution_count": 27,
   "outputs": [],
   "source": [
    "import matplotlib.pyplot as plt"
   ],
   "metadata": {
    "collapsed": false,
    "pycharm": {
     "name": "#%%\n"
    }
   }
  },
  {
   "cell_type": "code",
   "execution_count": 28,
   "outputs": [
    {
     "data": {
      "text/plain": "<Figure size 432x288 with 1 Axes>",
      "image/png": "[encoded data removed]"
     },
     "metadata": {
      "needs_background": "light"
     },
     "output_type": "display_data"
    }
   ],
   "source": [
    "plt.scatter(x=train['LONGITUDE'],y=train['LATITUDE'])\n",
    "plt.show()"
   ],
   "metadata": {
    "collapsed": false,
    "pycharm": {
     "name": "#%%\n"
    }
   }
  },
  {
   "cell_type": "markdown",
   "source": [
    "#### [Step 3]\n",
    "Select features from attributes."
   ],
   "metadata": {
    "collapsed": false,
    "pycharm": {
     "name": "#%% md\n"
    }
   }
  },
  {
   "cell_type": "code",
   "execution_count": 29,
   "outputs": [
    {
     "data": {
      "text/plain": "   WAP001  WAP002  WAP003  WAP004  WAP005  WAP006  WAP007  WAP008  WAP009  \\\n0     100     100     100     100     100     100     100     100     100   \n1     100     100     100     100     100     100     100     100     100   \n2     100     100     100     100     100     100     100     -97     100   \n3     100     100     100     100     100     100     100     100     100   \n4     100     100     100     100     100     100     100     100     100   \n\n   WAP010  ...  WAP520  LONGITUDE      LATITUDE  FLOOR  BUILDINGID  SPACEID  \\\n0     100  ...     100 -7541.2643  4.864921e+06      2           1      106   \n1     100  ...     100 -7536.6212  4.864934e+06      2           1      106   \n2     100  ...     100 -7519.1524  4.864950e+06      2           1      103   \n3     100  ...     100 -7524.5704  4.864934e+06      2           1      102   \n4     100  ...     100 -7632.1436  4.864982e+06      0           0      122   \n\n   RELATIVEPOSITION  USERID  PHONEID   TIMESTAMP  \n0                 2       2       23  1371713733  \n1                 2       2       23  1371713691  \n2                 2       2       23  1371714095  \n3                 2       2       23  1371713807  \n4                 2      11       13  1369909710  \n\n[5 rows x 529 columns]",
      "text/html": "<div>\n<style scoped>\n    .dataframe tbody tr th:only-of-type {\n        vertical-align: middle;\n    }\n\n    .dataframe tbody tr th {\n        vertical-align: top;\n    }\n\n    .dataframe thead th {\n        text-align: right;\n    }\n</style>\n<table border=\"1\" class=\"dataframe\">\n  <thead>\n    <tr style=\"text-align: right;\">\n      <th></th>\n      <th>WAP001</th>\n      <th>WAP002</th>\n      <th>WAP003</th>\n      <th>WAP004</th>\n      <th>WAP005</th>\n      <th>WAP006</th>\n      <th>WAP007</th>\n      <th>WAP008</th>\n      <th>WAP009</th>\n      <th>WAP010</th>\n      <th>...</th>\n      <th>WAP520</th>\n      <th>LONGITUDE</th>\n      <th>LATITUDE</th>\n      <th>FLOOR</th>\n      <th>BUILDINGID</th>\n      <th>SPACEID</th>\n      <th>RELATIVEPOSITION</th>\n      <th>USERID</th>\n      <th>PHONEID</th>\n      <th>TIMESTAMP</th>\n    </tr>\n  </thead>\n  <tbody>\n    <tr>\n      <th>0</th>\n      <td>100</td>\n      <td>100</td>\n      <td>100</td>\n      <td>100</td>\n      <td>100</td>\n      <td>100</td>\n      <td>100</td>\n      <td>100</td>\n      <td>100</td>\n      <td>100</td>\n      <td>...</td>\n      <td>100</td>\n      <td>-7541.2643</td>\n      <td>4.864921e+06</td>\n      <td>2</td>\n      <td>1</td>\n      <td>106</td>\n      <td>2</td>\n      <td>2</td>\n      <td>23</td>\n      <td>1371713733</td>\n    </tr>\n    <tr>\n      <th>1</th>\n      <td>100</td>\n      <td>100</td>\n      <td>100</td>\n      <td>100</td>\n      <td>100</td>\n      <td>100</td>\n      <td>100</td>\n      <td>100</td>\n      <td>100</td>\n      <td>100</td>\n      <td>...</td>\n      <td>100</td>\n      <td>-7536.6212</td>\n      <td>4.864934e+06</td>\n      <td>2</td>\n      <td>1</td>\n      <td>106</td>\n      <td>2</td>\n      <td>2</td>\n      <td>23</td>\n      <td>1371713691</td>\n    </tr>\n    <tr>\n      <th>2</th>\n      <td>100</td>\n      <td>100</td>\n      <td>100</td>\n      <td>100</td>\n      <td>100</td>\n      <td>100</td>\n      <td>100</td>\n      <td>-97</td>\n      <td>100</td>\n      <td>100</td>\n      <td>...</td>\n      <td>100</td>\n      <td>-7519.1524</td>\n      <td>4.864950e+06</td>\n      <td>2</td>\n      <td>1</td>\n      <td>103</td>\n      <td>2</td>\n      <td>2</td>\n      <td>23</td>\n      <td>1371714095</td>\n    </tr>\n    <tr>\n      <th>3</th>\n      <td>100</td>\n      <td>100</td>\n      <td>100</td>\n      <td>100</td>\n      <td>100</td>\n      <td>100</td>\n      <td>100</td>\n      <td>100</td>\n      <td>100</td>\n      <td>100</td>\n      <td>...</td>\n      <td>100</td>\n      <td>-7524.5704</td>\n      <td>4.864934e+06</td>\n      <td>2</td>\n      <td>1</td>\n      <td>102</td>\n      <td>2</td>\n      <td>2</td>\n      <td>23</td>\n      <td>1371713807</td>\n    </tr>\n    <tr>\n      <th>4</th>\n      <td>100</td>\n      <td>100</td>\n      <td>100</td>\n      <td>100</td>\n      <td>100</td>\n      <td>100</td>\n      <td>100</td>\n      <td>100</td>\n      <td>100</td>\n      <td>100</td>\n      <td>...</td>\n      <td>100</td>\n      <td>-7632.1436</td>\n      <td>4.864982e+06</td>\n      <td>0</td>\n      <td>0</td>\n      <td>122</td>\n      <td>2</td>\n      <td>11</td>\n      <td>13</td>\n      <td>1369909710</td>\n    </tr>\n  </tbody>\n</table>\n<p>5 rows × 529 columns</p>\n</div>"
     },
     "execution_count": 29,
     "metadata": {},
     "output_type": "execute_result"
    }
   ],
   "source": [
    "train.head(5)"
   ],
   "metadata": {
    "collapsed": false,
    "pycharm": {
     "name": "#%%\n"
    }
   }
  },
  {
   "cell_type": "code",
   "execution_count": 30,
   "outputs": [],
   "source": [
    "# Drop unnecessary attributes\n",
    "train.drop(['LONGITUDE', 'LATITUDE', 'FLOOR', 'SPACEID', 'RELATIVEPOSITION', 'USERID', 'PHONEID','TIMESTAMP'], axis=1, inplace=True)\n",
    "test.drop(['LONGITUDE', 'LATITUDE', 'FLOOR', 'SPACEID', 'RELATIVEPOSITION', 'USERID', 'PHONEID','TIMESTAMP'], axis=1, inplace=True)"
   ],
   "metadata": {
    "collapsed": false,
    "pycharm": {
     "name": "#%%\n"
    }
   }
  },
  {
   "cell_type": "code",
   "execution_count": 138,
   "outputs": [],
   "source": [
    "# Slicing features and target\n",
    "x_train = train.iloc[:,:-1]\n",
    "y_train = train.iloc[:,-1]\n",
    "x_test = test.iloc[:,:-1]\n",
    "y_test = test.iloc[:,-1]"
   ],
   "metadata": {
    "collapsed": false,
    "pycharm": {
     "name": "#%%\n"
    }
   }
  },
  {
   "cell_type": "markdown",
   "source": [
    "#### [Step 4]\n",
    "Perform experiments using K-nearest Neighbors method. Observe performance and test score."
   ],
   "metadata": {
    "collapsed": false,
    "pycharm": {
     "name": "#%% md\n"
    }
   }
  },
  {
   "cell_type": "code",
   "execution_count": 32,
   "outputs": [],
   "source": [
    "from sklearn.neighbors import KNeighborsClassifier\n",
    "from sklearn.metrics import f1_score, confusion_matrix, roc_auc_score"
   ],
   "metadata": {
    "collapsed": false,
    "pycharm": {
     "name": "#%%\n"
    }
   }
  },
  {
   "cell_type": "code",
   "execution_count": 35,
   "outputs": [
    {
     "name": "stdout",
     "output_type": "stream",
     "text": [
      "F1 Score: 0.990\n"
     ]
    }
   ],
   "source": [
    "# [1] Perform one experiment, test F1 Score.\n",
    "## Preliminary K=3, predict y_hat, test score\n",
    "knn = KNeighborsClassifier(n_neighbors=3)\n",
    "knn.fit(x_train, y_train)\n",
    "y_pred = knn.predict(x_test)\n",
    "f1_scores = f1_score(y_test, y_pred, average='macro')\n",
    "\n",
    "print(f'F1 Score: {f1_scores:.3f}')"
   ],
   "metadata": {
    "collapsed": false,
    "pycharm": {
     "name": "#%%\n"
    }
   }
  },
  {
   "cell_type": "code",
   "execution_count": 37,
   "outputs": [
    {
     "name": "stdout",
     "output_type": "stream",
     "text": [
      " F1 Score: 0.988\n",
      " F1 Score: 0.983\n",
      " F1 Score: 0.990\n",
      " F1 Score: 0.987\n",
      " F1 Score: 0.989\n",
      " F1 Score: 0.988\n",
      " F1 Score: 0.987\n",
      " F1 Score: 0.983\n",
      " F1 Score: 0.986\n",
      " F1 Score: 0.985\n",
      " F1 Score: 0.986\n",
      " F1 Score: 0.984\n",
      " F1 Score: 0.983\n",
      " F1 Score: 0.983\n",
      " F1 Score: 0.985\n",
      " F1 Score: 0.986\n",
      " F1 Score: 0.985\n",
      " F1 Score: 0.982\n",
      " F1 Score: 0.984\n",
      " F1 Score: 0.983\n",
      " F1 Score: 0.986\n",
      " F1 Score: 0.984\n",
      " F1 Score: 0.986\n",
      " F1 Score: 0.982\n",
      " F1 Score: 0.983\n",
      " F1 Score: 0.980\n",
      " F1 Score: 0.981\n",
      " F1 Score: 0.978\n",
      " F1 Score: 0.982\n"
     ]
    }
   ],
   "source": [
    "# [2.1] Perform different K values\n",
    "no_neighbors = np.arange(1,30)\n",
    "f1_scores = np.empty(len(no_neighbors))\n",
    "\n",
    "for i, k in enumerate(no_neighbors):\n",
    "    knn = KNeighborsClassifier(n_neighbors=k)\n",
    "    knn.fit(x_train, y_train)\n",
    "    y_pred = knn.predict(x_test)\n",
    "    f1_scores[i] = f1_score(y_test, y_pred, average='macro')\n",
    "    print(f' F1 Score: {f1_scores[i]:.3f}')"
   ],
   "metadata": {
    "collapsed": false,
    "pycharm": {
     "name": "#%%\n"
    }
   }
  },
  {
   "cell_type": "code",
   "execution_count": 39,
   "outputs": [
    {
     "data": {
      "text/plain": "<Figure size 432x288 with 1 Axes>",
      "image/png": "[encoded data removed]"
     },
     "metadata": {
      "needs_background": "light"
     },
     "output_type": "display_data"
    }
   ],
   "source": [
    "# [2.2] Plot F1 Scores for each K\n",
    "plt.title('KNN: Variety number of neighbors')\n",
    "plt.plot(no_neighbors, f1_scores, label = 'F1 Scores', c='red')\n",
    "plt.legend()\n",
    "plt.xlabel('Number of Neighbors')\n",
    "plt.ylabel('F1 Scores')\n",
    "plt.show()"
   ],
   "metadata": {
    "collapsed": false,
    "pycharm": {
     "name": "#%%\n"
    }
   }
  },
  {
   "cell_type": "code",
   "source": [
    "# [3] Observation\n",
    "'We observed that the performance testing in this case, K in range 1-30, given noises. The best F1-Scores observed at 0.990 where K=3 in this case study.'"
   ],
   "metadata": {
    "collapsed": false,
    "pycharm": {
     "name": "#%%\n"
    }
   },
   "execution_count": 42,
   "outputs": [
    {
     "data": {
      "text/plain": "'We observed that the performance testing in this case, K in range 1-30, given noises. The best F1-Scores observed at 0.990 where K=3 in this case study.'"
     },
     "execution_count": 42,
     "metadata": {},
     "output_type": "execute_result"
    }
   ]
  },
  {
   "cell_type": "code",
   "source": [
    "# [4] Choose the best model\n",
    "'Based on F1 scores where k=3 is the best model selection'"
   ],
   "metadata": {
    "collapsed": false,
    "pycharm": {
     "name": "#%%\n"
    }
   },
   "execution_count": 43,
   "outputs": [
    {
     "data": {
      "text/plain": "'Based on F1 scores where k=3 is the best model selection'"
     },
     "execution_count": 43,
     "metadata": {},
     "output_type": "execute_result"
    }
   ]
  },
  {
   "cell_type": "code",
   "execution_count": 46,
   "outputs": [],
   "source": [
    "from sklearn.preprocessing import MinMaxScaler\n",
    "from sklearn.preprocessing import StandardScaler"
   ],
   "metadata": {
    "collapsed": false,
    "pycharm": {
     "name": "#%%\n"
    }
   }
  },
  {
   "cell_type": "code",
   "execution_count": 59,
   "outputs": [],
   "source": [
    "# [5] Data Normalization and Data Standardization\n",
    "## Normalization\n",
    "norm = MinMaxScaler()\n",
    "x_train_normed = norm.fit_transform(x_train)\n",
    "x_test_normed = norm.fit_transform(x_test)\n",
    "## Standardization (Z)\n",
    "std = StandardScaler()\n",
    "x_train_std = std.fit_transform(x_train)\n",
    "x_test_std = std.fit_transform(x_test)"
   ],
   "metadata": {
    "collapsed": false,
    "pycharm": {
     "name": "#%%\n"
    }
   }
  },
  {
   "cell_type": "code",
   "execution_count": 186,
   "outputs": [
    {
     "name": "stdout",
     "output_type": "stream",
     "text": [
      "F1 Score for data normed: 0.841\n"
     ]
    }
   ],
   "source": [
    "# [6] Perform one experiment\n",
    "### fitting with data normed\n",
    "knn = KNeighborsClassifier(n_neighbors=3)\n",
    "knn.fit(x_train_normed, y_train)\n",
    "y_pred = knn.predict(x_test_normed)\n",
    "f1_scores_normed = f1_score(y_test, y_pred, average='macro')\n",
    "print(f'F1 Score for data normed: {f1_scores_normed:.3f}')"
   ],
   "metadata": {
    "collapsed": false,
    "pycharm": {
     "name": "#%%\n"
    }
   }
  },
  {
   "cell_type": "code",
   "execution_count": 187,
   "outputs": [
    {
     "name": "stdout",
     "output_type": "stream",
     "text": [
      "F1 Score for data standard (Z): 0.938\n"
     ]
    }
   ],
   "source": [
    "### fitting with data standard (Z)\n",
    "knn = KNeighborsClassifier(n_neighbors=3)\n",
    "knn.fit(x_train_std, y_train)\n",
    "y_pred = knn.predict(x_test_std)\n",
    "f1_scores_std = f1_score(y_test, y_pred,average='macro')\n",
    "print(f'F1 Score for data standard (Z): {f1_scores_std:.3f}')"
   ],
   "metadata": {
    "collapsed": false,
    "pycharm": {
     "name": "#%%\n"
    }
   }
  },
  {
   "cell_type": "code",
   "execution_count": 67,
   "outputs": [
    {
     "data": {
      "text/plain": "'We found that data normalization and data standardization did not improve F1 scores'"
     },
     "execution_count": 67,
     "metadata": {},
     "output_type": "execute_result"
    }
   ],
   "source": [
    "# [7] observation:\n",
    "'We found that data normalization and data standardization did not improve F1 scores'"
   ],
   "metadata": {
    "collapsed": false,
    "pycharm": {
     "name": "#%%\n"
    }
   }
  },
  {
   "cell_type": "code",
   "execution_count": 185,
   "outputs": [],
   "source": [
    "# [7] Plot\n"
   ],
   "metadata": {
    "collapsed": false,
    "pycharm": {
     "name": "#%%\n"
    }
   }
  },
  {
   "cell_type": "code",
   "execution_count": 184,
   "outputs": [
    {
     "data": {
      "text/plain": "<Figure size 432x288 with 1 Axes>",
      "image/png": "[encoded data removed]"
     },
     "metadata": {
      "needs_background": "light"
     },
     "output_type": "display_data"
    }
   ],
   "source": [
    "fig = plt.figure()\n",
    "ax = fig.add_axes([0,0,1,1])\n",
    "f1 = ['F1 Score', 'F1 Normed','F1 Std']\n",
    "F1_value = [f1_scores, f1_scores_normed, f1_scores_std]\n",
    "ax.bar(f1,F1_value)\n",
    "plt.show()"
   ],
   "metadata": {
    "collapsed": false,
    "pycharm": {
     "name": "#%%\n"
    }
   }
  },
  {
   "cell_type": "markdown",
   "source": [
    "#### Step [5]\n",
    "Perform experiments using Decision Tree method. Observe performance and test score."
   ],
   "metadata": {
    "collapsed": false,
    "pycharm": {
     "name": "#%% md\n"
    }
   }
  },
  {
   "cell_type": "code",
   "execution_count": 69,
   "outputs": [],
   "source": [
    "from sklearn.tree import DecisionTreeClassifier"
   ],
   "metadata": {
    "collapsed": false,
    "pycharm": {
     "name": "#%%\n"
    }
   }
  },
  {
   "cell_type": "code",
   "execution_count": 112,
   "outputs": [
    {
     "name": "stdout",
     "output_type": "stream",
     "text": [
      "F1 Score: 0.990\n"
     ]
    }
   ],
   "source": [
    "# [1] Perform one experiment, observe F1 Score.\n",
    "dt_clf = DecisionTreeClassifier(max_depth=40)\n",
    "dt_clf.fit(x_train, y_train)\n",
    "y_pred = dt_clf.predict(x_test)\n",
    "f1_scores = f1_score(y_test, y_pred, average='macro')\n",
    "\n",
    "print(f'F1 Score: {f1_scores:.3f}')"
   ],
   "metadata": {
    "collapsed": false,
    "pycharm": {
     "name": "#%%\n"
    }
   }
  },
  {
   "cell_type": "code",
   "execution_count": 83,
   "outputs": [],
   "source": [
    "# [2] Data Normalization and Data Standardization\n",
    "## Normalization\n",
    "norm = MinMaxScaler()\n",
    "x_train_normed = norm.fit_transform(x_train)\n",
    "x_test_normed = norm.fit_transform(x_test)\n",
    "## Standardization (Z)\n",
    "std = StandardScaler()\n",
    "x_train_std = std.fit_transform(x_train)\n",
    "x_test_std = std.fit_transform(x_test)"
   ],
   "metadata": {
    "collapsed": false,
    "pycharm": {
     "name": "#%%\n"
    }
   }
  },
  {
   "cell_type": "code",
   "execution_count": 131,
   "outputs": [
    {
     "name": "stdout",
     "output_type": "stream",
     "text": [
      "F1 Score with normed data: 0.943\n"
     ]
    }
   ],
   "source": [
    "# [3] Perform one experiment\n",
    "### fitting with data normed\n",
    "dt_clf = DecisionTreeClassifier(max_depth=13)\n",
    "dt_clf.fit(x_train_normed, y_train)\n",
    "y_pred = dt_clf.predict(x_test_normed)\n",
    "f1_scores_normed = f1_score(y_test, y_pred, average='macro')\n",
    "\n",
    "print(f'F1 Score with normed data: {f1_scores_normed:.3f}')"
   ],
   "metadata": {
    "collapsed": false,
    "pycharm": {
     "name": "#%%\n"
    }
   }
  },
  {
   "cell_type": "code",
   "execution_count": 109,
   "outputs": [
    {
     "name": "stdout",
     "output_type": "stream",
     "text": [
      "F1 Score with standardized data 0.944\n"
     ]
    }
   ],
   "source": [
    "### fitting with data standardize (Z)\n",
    "dt_clf = DecisionTreeClassifier(max_depth=13)\n",
    "dt_clf.fit(x_train_std, y_train)\n",
    "y_pred = dt_clf.predict(x_test_std)\n",
    "f1_scores_std = f1_score(y_test, y_pred, average='macro')\n",
    "\n",
    "print(f'F1 Score with standardized data {f1_scores_std:.3f}')"
   ],
   "metadata": {
    "collapsed": false,
    "pycharm": {
     "name": "#%%\n"
    }
   }
  },
  {
   "cell_type": "code",
   "execution_count": 110,
   "outputs": [
    {
     "data": {
      "text/plain": "'We observe that data normalization and data standardization did improve F1 scores for using DT method. We found that using DT method in this case study given a very long leaf node without data scaling, as the result 13 leaf node were found by data normalization, standardization - we conclude that this method still not the best choice.'"
     },
     "execution_count": 110,
     "metadata": {},
     "output_type": "execute_result"
    }
   ],
   "source": [
    "# [4] Observation\n",
    "'We observe that data normalization and data standardization did improve F1 scores for using DT method. We found that using DT method in this case study given a very long leaf node without data scaling, as the result 13 leaf node were found by data normalization, standardization - we conclude that this method still not the best choice.'"
   ],
   "metadata": {
    "collapsed": false,
    "pycharm": {
     "name": "#%%\n"
    }
   }
  },
  {
   "cell_type": "code",
   "execution_count": 188,
   "outputs": [
    {
     "data": {
      "text/plain": "<Figure size 432x288 with 1 Axes>",
      "image/png": "[encoded data removed]"
     },
     "metadata": {
      "needs_background": "light"
     },
     "output_type": "display_data"
    }
   ],
   "source": [
    "# [4] Plot\n",
    "fig = plt.figure()\n",
    "ax = fig.add_axes([0,0,1,1])\n",
    "f1 = ['F1 Score', 'F1 Normed','F1 Std']\n",
    "F1_value = [f1_scores, f1_scores_normed, f1_scores_std]\n",
    "ax.bar(f1,F1_value)\n",
    "plt.show()"
   ],
   "metadata": {
    "collapsed": false,
    "pycharm": {
     "name": "#%%\n"
    }
   }
  },
  {
   "cell_type": "markdown",
   "source": [
    "#### [Step 6] Finding\n",
    "Comparison the KNN model and DT model."
   ],
   "metadata": {
    "collapsed": false,
    "pycharm": {
     "name": "#%% md\n"
    }
   }
  },
  {
   "cell_type": "code",
   "execution_count": 132,
   "outputs": [
    {
     "data": {
      "text/plain": "'In comparison between KNN model and DT Model, we found that to get the best score of F1 at 0.990 by using KNN is better than DT. However, data scaling did not improve F1 score by using KNN model. On the other hand, to get the best f1 score at 0.990 by using DT method that is long process and the leaf node is still long. We consider KNN is better.'"
     },
     "execution_count": 132,
     "metadata": {},
     "output_type": "execute_result"
    }
   ],
   "source": [
    "'In comparison between KNN model and DT Model, we found that to get the best score of F1 at 0.990 by using KNN is better than DT. However, data scaling did not improve F1 score by using KNN model. On the other hand, to get the best f1 score at 0.990 by using DT method that is long process and the leaf node is still long. We consider KNN is better.'"
   ],
   "metadata": {
    "collapsed": false,
    "pycharm": {
     "name": "#%%\n"
    }
   }
  },
  {
   "cell_type": "markdown",
   "source": [
    "## Assignment 4"
   ],
   "metadata": {
    "collapsed": false,
    "pycharm": {
     "name": "#%% md\n"
    }
   }
  },
  {
   "cell_type": "markdown",
   "source": [
    "## Objective\n",
    "`In this practice, we encouter by sample size of data to observe the model best fit by using the same method in the last assignment`"
   ],
   "metadata": {
    "collapsed": false,
    "pycharm": {
     "name": "#%% md\n"
    }
   }
  },
  {
   "cell_type": "code",
   "execution_count": 157,
   "outputs": [
    {
     "data": {
      "text/plain": "       WAP001  WAP002  WAP003  WAP004  WAP005  WAP006  WAP007  WAP008  WAP009  \\\n2653      100     100     100     100     100     100     100     100     100   \n13735     100     100     100     100     100     100     100     100     100   \n12136     100     100     100     100     100     100     100     100     100   \n11220     100     100     100     100     100     100     -79     100     100   \n10508     100     100     100     100     100     100     100     100     100   \n...       ...     ...     ...     ...     ...     ...     ...     ...     ...   \n9575      100     100     100     100     100     100     100     100     100   \n16730     100     100     100     100     100     100     100     100     100   \n6493      100     100     100     100     100     100     100     100     100   \n5029      100     100     100     100     100     100     100     100     100   \n18239     100     100     100     100     100     100     100     100     100   \n\n       WAP010  ...  WAP512  WAP513  WAP514  WAP515  WAP516  WAP517  WAP518  \\\n2653      100  ...     100     100     100     100     -85     100     100   \n13735     100  ...     100     100     100     100     100     -90     100   \n12136     100  ...     100     100     100     100     100     -74     100   \n11220     100  ...     100     100     100     100     100     100     100   \n10508     100  ...     100     100     100     100     100     100     100   \n...       ...  ...     ...     ...     ...     ...     ...     ...     ...   \n9575      100  ...     100     100     100     100     100     100     100   \n16730     100  ...     100     100     100     100     100     100     100   \n6493      100  ...     100     100     100     100     100     100     100   \n5029      100  ...     100     100     100     100     100     100     100   \n18239     100  ...     100     100     100     100     100     100     100   \n\n       WAP519  WAP520  BUILDINGID  \n2653      100     100           2  \n13735     100     100           2  \n12136     100     100           2  \n11220     100     100           0  \n10508     100     100           0  \n...       ...     ...         ...  \n9575      100     100           0  \n16730     100     100           0  \n6493      100     100           1  \n5029      100     100           2  \n18239     100     100           0  \n\n[3987 rows x 521 columns]",
      "text/html": "<div>\n<style scoped>\n    .dataframe tbody tr th:only-of-type {\n        vertical-align: middle;\n    }\n\n    .dataframe tbody tr th {\n        vertical-align: top;\n    }\n\n    .dataframe thead th {\n        text-align: right;\n    }\n</style>\n<table border=\"1\" class=\"dataframe\">\n  <thead>\n    <tr style=\"text-align: right;\">\n      <th></th>\n      <th>WAP001</th>\n      <th>WAP002</th>\n      <th>WAP003</th>\n      <th>WAP004</th>\n      <th>WAP005</th>\n      <th>WAP006</th>\n      <th>WAP007</th>\n      <th>WAP008</th>\n      <th>WAP009</th>\n      <th>WAP010</th>\n      <th>...</th>\n      <th>WAP512</th>\n      <th>WAP513</th>\n      <th>WAP514</th>\n      <th>WAP515</th>\n      <th>WAP516</th>\n      <th>WAP517</th>\n      <th>WAP518</th>\n      <th>WAP519</th>\n      <th>WAP520</th>\n      <th>BUILDINGID</th>\n    </tr>\n  </thead>\n  <tbody>\n    <tr>\n      <th>2653</th>\n      <td>100</td>\n      <td>100</td>\n      <td>100</td>\n      <td>100</td>\n      <td>100</td>\n      <td>100</td>\n      <td>100</td>\n      <td>100</td>\n      <td>100</td>\n      <td>100</td>\n      <td>...</td>\n      <td>100</td>\n      <td>100</td>\n      <td>100</td>\n      <td>100</td>\n      <td>-85</td>\n      <td>100</td>\n      <td>100</td>\n      <td>100</td>\n      <td>100</td>\n      <td>2</td>\n    </tr>\n    <tr>\n      <th>13735</th>\n      <td>100</td>\n      <td>100</td>\n      <td>100</td>\n      <td>100</td>\n      <td>100</td>\n      <td>100</td>\n      <td>100</td>\n      <td>100</td>\n      <td>100</td>\n      <td>100</td>\n      <td>...</td>\n      <td>100</td>\n      <td>100</td>\n      <td>100</td>\n      <td>100</td>\n      <td>100</td>\n      <td>-90</td>\n      <td>100</td>\n      <td>100</td>\n      <td>100</td>\n      <td>2</td>\n    </tr>\n    <tr>\n      <th>12136</th>\n      <td>100</td>\n      <td>100</td>\n      <td>100</td>\n      <td>100</td>\n      <td>100</td>\n      <td>100</td>\n      <td>100</td>\n      <td>100</td>\n      <td>100</td>\n      <td>100</td>\n      <td>...</td>\n      <td>100</td>\n      <td>100</td>\n      <td>100</td>\n      <td>100</td>\n      <td>100</td>\n      <td>-74</td>\n      <td>100</td>\n      <td>100</td>\n      <td>100</td>\n      <td>2</td>\n    </tr>\n    <tr>\n      <th>11220</th>\n      <td>100</td>\n      <td>100</td>\n      <td>100</td>\n      <td>100</td>\n      <td>100</td>\n      <td>100</td>\n      <td>-79</td>\n      <td>100</td>\n      <td>100</td>\n      <td>100</td>\n      <td>...</td>\n      <td>100</td>\n      <td>100</td>\n      <td>100</td>\n      <td>100</td>\n      <td>100</td>\n      <td>100</td>\n      <td>100</td>\n      <td>100</td>\n      <td>100</td>\n      <td>0</td>\n    </tr>\n    <tr>\n      <th>10508</th>\n      <td>100</td>\n      <td>100</td>\n      <td>100</td>\n      <td>100</td>\n      <td>100</td>\n      <td>100</td>\n      <td>100</td>\n      <td>100</td>\n      <td>100</td>\n      <td>100</td>\n      <td>...</td>\n      <td>100</td>\n      <td>100</td>\n      <td>100</td>\n      <td>100</td>\n      <td>100</td>\n      <td>100</td>\n      <td>100</td>\n      <td>100</td>\n      <td>100</td>\n      <td>0</td>\n    </tr>\n    <tr>\n      <th>...</th>\n      <td>...</td>\n      <td>...</td>\n      <td>...</td>\n      <td>...</td>\n      <td>...</td>\n      <td>...</td>\n      <td>...</td>\n      <td>...</td>\n      <td>...</td>\n      <td>...</td>\n      <td>...</td>\n      <td>...</td>\n      <td>...</td>\n      <td>...</td>\n      <td>...</td>\n      <td>...</td>\n      <td>...</td>\n      <td>...</td>\n      <td>...</td>\n      <td>...</td>\n      <td>...</td>\n    </tr>\n    <tr>\n      <th>9575</th>\n      <td>100</td>\n      <td>100</td>\n      <td>100</td>\n      <td>100</td>\n      <td>100</td>\n      <td>100</td>\n      <td>100</td>\n      <td>100</td>\n      <td>100</td>\n      <td>100</td>\n      <td>...</td>\n      <td>100</td>\n      <td>100</td>\n      <td>100</td>\n      <td>100</td>\n      <td>100</td>\n      <td>100</td>\n      <td>100</td>\n      <td>100</td>\n      <td>100</td>\n      <td>0</td>\n    </tr>\n    <tr>\n      <th>16730</th>\n      <td>100</td>\n      <td>100</td>\n      <td>100</td>\n      <td>100</td>\n      <td>100</td>\n      <td>100</td>\n      <td>100</td>\n      <td>100</td>\n      <td>100</td>\n      <td>100</td>\n      <td>...</td>\n      <td>100</td>\n      <td>100</td>\n      <td>100</td>\n      <td>100</td>\n      <td>100</td>\n      <td>100</td>\n      <td>100</td>\n      <td>100</td>\n      <td>100</td>\n      <td>0</td>\n    </tr>\n    <tr>\n      <th>6493</th>\n      <td>100</td>\n      <td>100</td>\n      <td>100</td>\n      <td>100</td>\n      <td>100</td>\n      <td>100</td>\n      <td>100</td>\n      <td>100</td>\n      <td>100</td>\n      <td>100</td>\n      <td>...</td>\n      <td>100</td>\n      <td>100</td>\n      <td>100</td>\n      <td>100</td>\n      <td>100</td>\n      <td>100</td>\n      <td>100</td>\n      <td>100</td>\n      <td>100</td>\n      <td>1</td>\n    </tr>\n    <tr>\n      <th>5029</th>\n      <td>100</td>\n      <td>100</td>\n      <td>100</td>\n      <td>100</td>\n      <td>100</td>\n      <td>100</td>\n      <td>100</td>\n      <td>100</td>\n      <td>100</td>\n      <td>100</td>\n      <td>...</td>\n      <td>100</td>\n      <td>100</td>\n      <td>100</td>\n      <td>100</td>\n      <td>100</td>\n      <td>100</td>\n      <td>100</td>\n      <td>100</td>\n      <td>100</td>\n      <td>2</td>\n    </tr>\n    <tr>\n      <th>18239</th>\n      <td>100</td>\n      <td>100</td>\n      <td>100</td>\n      <td>100</td>\n      <td>100</td>\n      <td>100</td>\n      <td>100</td>\n      <td>100</td>\n      <td>100</td>\n      <td>100</td>\n      <td>...</td>\n      <td>100</td>\n      <td>100</td>\n      <td>100</td>\n      <td>100</td>\n      <td>100</td>\n      <td>100</td>\n      <td>100</td>\n      <td>100</td>\n      <td>100</td>\n      <td>0</td>\n    </tr>\n  </tbody>\n</table>\n<p>3987 rows × 521 columns</p>\n</div>"
     },
     "execution_count": 157,
     "metadata": {},
     "output_type": "execute_result"
    }
   ],
   "source": [
    "# [1] 20% samples\n",
    "train.sample(frac=0.2)"
   ],
   "metadata": {
    "collapsed": false,
    "pycharm": {
     "name": "#%%\n"
    }
   }
  },
  {
   "cell_type": "code",
   "execution_count": 160,
   "outputs": [],
   "source": [
    "F1_list = []"
   ],
   "metadata": {
    "collapsed": false,
    "pycharm": {
     "name": "#%%\n"
    }
   }
  },
  {
   "cell_type": "code",
   "execution_count": 169,
   "outputs": [
    {
     "name": "stdout",
     "output_type": "stream",
     "text": [
      "F1 Score: 0.990\n"
     ]
    }
   ],
   "source": [
    "x_train = train.iloc[:,:-1]\n",
    "y_train = train.iloc[:,-1]\n",
    "x_test = test.iloc[:,:-1]\n",
    "y_test = test.iloc[:,-1]\n",
    "\n",
    "knn = KNeighborsClassifier(n_neighbors=3)\n",
    "knn.fit(x_train, y_train)\n",
    "y_pred = knn.predict(x_test)\n",
    "f1_scores_20 = f1_score(y_test, y_pred, average='macro')\n",
    "F1_list.append(f1_scores_20)\n",
    "print(f'F1 Score: {f1_scores_20:.3f}')"
   ],
   "metadata": {
    "collapsed": false,
    "pycharm": {
     "name": "#%%\n"
    }
   }
  },
  {
   "cell_type": "code",
   "execution_count": 170,
   "outputs": [
    {
     "name": "stdout",
     "output_type": "stream",
     "text": [
      "F1 Score: 0.990\n"
     ]
    }
   ],
   "source": [
    "# [2] 40% samples\n",
    "train.sample(frac=0.4)\n",
    "x_train = train.iloc[:,:-1]\n",
    "y_train = train.iloc[:,-1]\n",
    "x_test = test.iloc[:,:-1]\n",
    "y_test = test.iloc[:,-1]\n",
    "\n",
    "knn = KNeighborsClassifier(n_neighbors=3)\n",
    "knn.fit(x_train, y_train)\n",
    "y_pred = knn.predict(x_test)\n",
    "f1_scores_40 = f1_score(y_test, y_pred, average='macro')\n",
    "F1_list.append(f1_scores_40)\n",
    "print(f'F1 Score: {f1_scores_40:.3f}')"
   ],
   "metadata": {
    "collapsed": false,
    "pycharm": {
     "name": "#%%\n"
    }
   }
  },
  {
   "cell_type": "code",
   "execution_count": 171,
   "outputs": [
    {
     "name": "stdout",
     "output_type": "stream",
     "text": [
      "F1 Score: 0.990\n"
     ]
    }
   ],
   "source": [
    "# [2] 60% samples\n",
    "train.sample(frac=0.6)\n",
    "x_train = train.iloc[:,:-1]\n",
    "y_train = train.iloc[:,-1]\n",
    "x_test = test.iloc[:,:-1]\n",
    "y_test = test.iloc[:,-1]\n",
    "\n",
    "knn = KNeighborsClassifier(n_neighbors=3)\n",
    "knn.fit(x_train, y_train)\n",
    "y_pred = knn.predict(x_test)\n",
    "f1_scores_60 = f1_score(y_test, y_pred, average='macro')\n",
    "F1_list.append(f1_scores_60)\n",
    "print(f'F1 Score: {f1_scores_60:.3f}')"
   ],
   "metadata": {
    "collapsed": false,
    "pycharm": {
     "name": "#%%\n"
    }
   }
  },
  {
   "cell_type": "code",
   "execution_count": 172,
   "outputs": [
    {
     "name": "stdout",
     "output_type": "stream",
     "text": [
      "F1 Score: 0.990\n"
     ]
    }
   ],
   "source": [
    "# [3] 80% sample\n",
    "train.sample(frac=0.8)\n",
    "x_train = train.iloc[:,:-1]\n",
    "y_train = train.iloc[:,-1]\n",
    "x_test = test.iloc[:,:-1]\n",
    "y_test = test.iloc[:,-1]\n",
    "\n",
    "knn = KNeighborsClassifier(n_neighbors=3)\n",
    "knn.fit(x_train, y_train)\n",
    "y_pred = knn.predict(x_test)\n",
    "f1_scores_80 = f1_score(y_test, y_pred, average='macro')\n",
    "F1_list.append(f1_scores_80)\n",
    "print(f'F1 Score: {f1_scores_80:.3f}')"
   ],
   "metadata": {
    "collapsed": false,
    "pycharm": {
     "name": "#%%\n"
    }
   }
  },
  {
   "cell_type": "code",
   "execution_count": 173,
   "outputs": [
    {
     "name": "stdout",
     "output_type": "stream",
     "text": [
      "F1 Score: 0.990\n"
     ]
    }
   ],
   "source": [
    "# [4] 100% sample\n",
    "train.sample(frac=1.0)\n",
    "x_train = train.iloc[:,:-1]\n",
    "y_train = train.iloc[:,-1]\n",
    "x_test = test.iloc[:,:-1]\n",
    "y_test = test.iloc[:,-1]\n",
    "\n",
    "knn = KNeighborsClassifier(n_neighbors=3)\n",
    "knn.fit(x_train, y_train)\n",
    "y_pred = knn.predict(x_test)\n",
    "f1_scores_100 = f1_score(y_test, y_pred, average='macro')\n",
    "F1_list.append(f1_scores_100)\n",
    "print(f'F1 Score: {f1_scores_100:.3f}')"
   ],
   "metadata": {
    "collapsed": false,
    "pycharm": {
     "name": "#%%\n"
    }
   }
  },
  {
   "cell_type": "code",
   "execution_count": 182,
   "outputs": [
    {
     "data": {
      "text/plain": "[<matplotlib.lines.Line2D at 0x2f31e2d60>]"
     },
     "execution_count": 182,
     "metadata": {},
     "output_type": "execute_result"
    },
    {
     "data": {
      "text/plain": "<Figure size 432x288 with 1 Axes>",
      "image/png": "[encoded data removed]"
     },
     "metadata": {
      "needs_background": "light"
     },
     "output_type": "display_data"
    }
   ],
   "source": [
    "size = [0,10,20,40,60,80,100]\n",
    "plt.plot(size,F1_list,label = 'F1 Scores')"
   ],
   "metadata": {
    "collapsed": false,
    "pycharm": {
     "name": "#%%\n"
    }
   }
  },
  {
   "cell_type": "markdown",
   "source": [
    "### Conclusion"
   ],
   "metadata": {
    "collapsed": false,
    "pycharm": {
     "name": "#%% md\n"
    }
   }
  },
  {
   "cell_type": "markdown",
   "source": [
    "`In this case, we conclude that increasing sample size did not make the fit of model change. To save time by performance testing, we can use sample size as less as we can.`"
   ],
   "metadata": {
    "collapsed": false,
    "pycharm": {
     "name": "#%% md\n"
    }
   }
  }
 ],
 "metadata": {
  "kernelspec": {
   "display_name": "Python 3",
   "language": "python",
   "name": "python3"
  },
  "language_info": {
   "codemirror_mode": {
    "name": "ipython",
    "version": 2
   },
   "file_extension": ".py",
   "mimetype": "text/x-python",
   "name": "python",
   "nbconvert_exporter": "python",
   "pygments_lexer": "ipython2",
   "version": "2.7.6"
  }
 },
 "nbformat": 4,
 "nbformat_minor": 0
}